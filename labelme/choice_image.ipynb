{
 "cells": [
  {
   "cell_type": "code",
   "execution_count": null,
   "metadata": {},
   "outputs": [],
   "source": [
    "import ipyplot \n",
    "from glob import glob\n",
    "import shutil\n",
    "import random\n",
    "from pathlib import Path\n",
    "from tqdm.auto import tqdm\n",
    "import IPython.display as ipd\n",
    "#TYPE = 'swoon'\n",
    "#TYPE = 'assault' \n",
    "TYPE = 'robbery' \n",
    "videos = sorted(glob('../../data1/IMG-1920/*'))\n",
    "videos = [Path(e) for e in videos if f'_{TYPE}' in e]\n",
    "\n",
    "#outs = set([Path(e).name for e in  glob('../../data1/VOD-unzip/1_Assault/outsidedoor_*/*')])\n",
    "#outs = set([Path(e).name for e in  glob('../../data1/VOD-unzip/10_Datefight/outsidedoor_*/*')])\n",
    "outs = set([Path(e).name for e in  glob('../../data1/VOD-unzip/09_Robbery/outsidedoor_*/*')])\n",
    "print(len(videos))\n",
    "videos = [e for e in videos if e.name.split('_')[0] in outs]\n",
    "\n",
    "len(videos), random.choice(videos)"
   ]
  },
  {
   "cell_type": "code",
   "execution_count": null,
   "metadata": {},
   "outputs": [],
   "source": [
    "for video in tqdm(videos):\n",
    "    imgs = sorted(glob(f'{video}/*.jpg'))[::30]\n",
    "    for img in imgs:\n",
    "        dst = f'sample_{TYPE}/{Path(img).name}'\n",
    "        shutil.copy(img, dst)"
   ]
  },
  {
   "cell_type": "code",
   "execution_count": null,
   "metadata": {},
   "outputs": [],
   "source": [
    "places = sorted(list(set([e.name.split('_')[0] for e in videos])))\n",
    "len(places), places[0]"
   ]
  },
  {
   "cell_type": "code",
   "execution_count": null,
   "metadata": {},
   "outputs": [],
   "source": [
    "#for i, video in enumerate(tqdm(reversed(videos_out))):\n",
    "#    vname = Path(video).name\n",
    "#    imgs = sorted(glob(f'sample_{TYPE}/{vname}*.jpg'))\n",
    "\n",
    "for i, p in enumerate(tqdm(places)):\n",
    "    imgs = sorted(glob(f'sample_{TYPE}/{p}_*.jpg'))\n",
    "    if 0 < len(imgs):\n",
    "        ipyplot.plot_images(imgs, max_images=100, img_width=600)\n",
    "    print(f'{i}/{len(places)}, p:{p}, len(imgs):{len(imgs)}')\n",
    "    if 0 == len(imgs):\n",
    "        continue\n",
    "    c = input()\n",
    "    if 'q' == c:\n",
    "        break\n",
    "    ipd.clear_output()"
   ]
  }
 ],
 "metadata": {
  "kernelspec": {
   "display_name": "Python [conda env:gc2020]",
   "language": "python",
   "name": "conda-env-gc2020-py"
  },
  "language_info": {
   "codemirror_mode": {
    "name": "ipython",
    "version": 3
   },
   "file_extension": ".py",
   "mimetype": "text/x-python",
   "name": "python",
   "nbconvert_exporter": "python",
   "pygments_lexer": "ipython3",
   "version": "3.7.7"
  }
 },
 "nbformat": 4,
 "nbformat_minor": 4
}
