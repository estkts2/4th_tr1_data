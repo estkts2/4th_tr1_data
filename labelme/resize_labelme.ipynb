{
 "cells": [
  {
   "cell_type": "code",
   "execution_count": null,
   "metadata": {},
   "outputs": [],
   "source": [
    "from glob import glob\n",
    "import os\n",
    "import json\n",
    "from PIL import Image\n",
    "import cv2, imageio\n",
    "import numpy as np\n",
    "from tqdm.auto import tqdm\n",
    "annos = sorted(glob('fixed_data_08_swoon/*.json'))\n",
    "imgs = sorted(glob('fixed_data_08_swoon/*.jpg'))\n",
    "pairs = list(zip(annos, imgs))\n",
    "assert len(annos) == len(imgs)\n",
    "pairs[-1]"
   ]
  },
  {
   "cell_type": "code",
   "execution_count": null,
   "metadata": {},
   "outputs": [],
   "source": [
    "import random\n",
    "# 일단 min_size가 MIN_SIZE 보다 작게 리사이즈.\n",
    "MIN_SIZE = 60\n",
    "for anno_path, img_path in tqdm(pairs):\n",
    "    with open(anno_path) as f:\n",
    "        anno = json.load(f)\n",
    "    pts = [np.array(e['points']) for e in anno['shapes']]\n",
    "    boxes = [(e[:,0].min(), e[:,1].min(), e[:,0].max(), e[:,1].max()) for e in pts]\n",
    "    min_size = min([min(x2-x1, y2-y1) for x1, y1, x2, y2 in boxes])\n",
    "    ratio = 1\n",
    "    im = cv2.imread(img_path)\n",
    "    h, w = im.shape[:2]\n",
    "    if MIN_SIZE < min_size and (128*128) < h*w:\n",
    "        print(h,w)\n",
    "        ratio = max(MIN_SIZE/min_size, np.sqrt((128*128)/(h*w)))  \n",
    "        im = cv2.resize(im, (int(round(w*ratio)), int(round(h*ratio))), cv2.INTER_AREA)\n",
    "        for obj in anno['shapes']:\n",
    "            obj['points'] = (np.array(obj['points'])*ratio).tolist()\n",
    "        cv2.imwrite(img_path, im, [int(cv2.IMWRITE_JPEG_QUALITY), 100])\n",
    "        h, w = im.shape[:2]\n",
    "        #print(h,w)\n",
    "        anno['imageHeight'] = h\n",
    "        anno['imageWidth'] = w\n",
    "        with open(anno_path, 'w') as f:\n",
    "            json.dump(anno, f)\n",
    "        #display(Image.open(img_path))\n"
   ]
  },
  {
   "cell_type": "code",
   "execution_count": null,
   "metadata": {},
   "outputs": [],
   "source": [
    "merged = []\n",
    "for anno_path, img_path in tqdm(pairs):\n",
    "    with open(anno_path) as f:\n",
    "        anno = json.load(f)\n",
    "    w, h = anno['imageWidth'], anno['imageHeight']\n",
    "    if 900 < w or 500 < h:\n",
    "        print('not merged', w, h, img_path)\n",
    "        #display(Image.open(img_path))\n",
    "    else:\n",
    "        merged.append((anno_path, img_path))\n",
    "len(merged)"
   ]
  },
  {
   "cell_type": "code",
   "execution_count": null,
   "metadata": {},
   "outputs": [],
   "source": [
    "for i in tqdm(range(0, len(merged), 4)):\n",
    "    pairs = merged[i:i+4]\n",
    "    if len(pairs) != 4:\n",
    "        print('continue. len(pairs)==', len(pairs))\n",
    "        continue\n",
    "    def load(json_path, img_path):\n",
    "        with open(json_path) as f:\n",
    "            anno = json.load(f)\n",
    "        im = cv2.imread(img_path)\n",
    "        return anno, im\n",
    "    datas = [load(*e) for e in pairs]\n",
    "    hs = [im.shape[0] for _, im in datas]\n",
    "    ws = [im.shape[1] for _, im in datas]\n",
    "    max_h = max(hs)\n",
    "    max_w = max(ws)\n",
    "    \n",
    "    max_h = max(hs[0] + hs[1], hs[0] + hs[3], hs[2] + hs[3], hs[2] + hs[1]) + 50 \n",
    "    max_w = max(ws[0] + ws[2], ws[0] + ws[3], ws[1] + ws[3], ws[2] + ws[1]) + 50\n",
    "    board = np.full((max_h, max_w, 3), 128, dtype=np.uint8)\n",
    "    annos, ims = list(zip(*datas)) \n",
    "    \n",
    "    board[:hs[0],  :ws[0]]  = ims[0]\n",
    "    board[-hs[1]:, :ws[1]]  = ims[1]\n",
    "    board[:hs[2],  -ws[2]:] = ims[2]\n",
    "    board[-hs[3]:, -ws[3]:] = ims[3]\n",
    "\n",
    "    for obj in annos[1]['shapes']:\n",
    "        obj['points'] = (np.array(obj['points']) + (0, max_h-hs[1])).tolist()\n",
    "    annos[0]['shapes'].extend(annos[1]['shapes'])\n",
    "        \n",
    "    for obj in annos[2]['shapes']:\n",
    "        obj['points'] = (np.array(obj['points']) + (max_w-ws[2], 0)).tolist()\n",
    "    annos[0]['shapes'].extend(annos[2]['shapes'])\n",
    "    \n",
    "    for obj in annos[3]['shapes']:\n",
    "        obj['points'] = (np.array(obj['points']) + (max_w-ws[3], max_h-hs[3])).tolist()\n",
    "    annos[0]['shapes'].extend(annos[3]['shapes'])\n",
    "    \n",
    "    annos[0]['imageHeight'] = max_h \n",
    "    annos[0]['imageWidth'] = max_w \n",
    "    \n",
    "    for f in sum(pairs,()):\n",
    "        os.remove(f)\n",
    "    \n",
    "    with open(pairs[0][0], 'w') as f:\n",
    "        json.dump(annos[0], f)\n",
    "    cv2.imwrite(pairs[0][1], board, [int(cv2.IMWRITE_JPEG_QUALITY), 100])\n",
    "    "
   ]
  },
  {
   "cell_type": "code",
   "execution_count": null,
   "metadata": {},
   "outputs": [],
   "source": [
    "pts = [np.array(obj['points']).astype(np.int)for obj in annos[0]['shapes']]\n",
    "cv2.polylines(board, pts, True, (0, 255, 255))\n",
    "Image.fromarray(board[:,:,[2,1,0]])"
   ]
  },
  {
   "cell_type": "code",
   "execution_count": null,
   "metadata": {},
   "outputs": [],
   "source": []
  },
  {
   "cell_type": "code",
   "execution_count": null,
   "metadata": {},
   "outputs": [],
   "source": []
  }
 ],
 "metadata": {
  "kernelspec": {
   "display_name": "Python 3",
   "language": "python",
   "name": "python3"
  },
  "language_info": {
   "codemirror_mode": {
    "name": "ipython",
    "version": 3
   },
   "file_extension": ".py",
   "mimetype": "text/x-python",
   "name": "python",
   "nbconvert_exporter": "python",
   "pygments_lexer": "ipython3",
   "version": "3.7.7"
  }
 },
 "nbformat": 4,
 "nbformat_minor": 4
}
