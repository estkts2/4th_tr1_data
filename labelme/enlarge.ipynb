{
 "cells": [
  {
   "cell_type": "code",
   "execution_count": 2,
   "metadata": {},
   "outputs": [],
   "source": [
    "from glob import glob\n",
    "import shutil\n",
    "import cv2\n",
    "from pathlib import Path\n",
    "from tqdm.auto import tqdm\n",
    "import json\n",
    "import numpy as np\n",
    "\n",
    "src_dir, dst_dir  = 'my_mobile_1fps', 'mobile_enlarge'\n",
    "def enlarge(src_dir, dst_dir):\n",
    "    src_jpgs = glob(f'{src_dir}/*.jpg')\n",
    "    shutil.rmtree(dst_dir)\n",
    "    Path(dst_dir).mkdir()\n",
    "    NX, NY = 2400, 1350\n",
    "    ox, oy  = (NX-1920)//2, (NY-1080)//2\n",
    "    \n",
    "    for src in tqdm(src_jpgs):\n",
    "        im = cv2.imread(src)\n",
    "        im = cv2.resize(im, (NX, NY))\n",
    "        im = im[oy:oy+1080, ox:ox+1920]\n",
    "        cv2.imwrite(f'{dst_dir}/{Path(src).name}', im, [int(cv2.IMWRITE_JPEG_QUALITY), 100])\n",
    "    \n",
    "    src_jsons = glob(f'{src_dir}/*.json')\n",
    "    r = NX/1920\n",
    "    for src in tqdm(src_jsons):\n",
    "        with open(src) as f:\n",
    "            anno = json.load(f)\n",
    "        objs = anno['shapes']\n",
    "        for obj in objs:\n",
    "            pts = np.array(obj['points']) * r\n",
    "            pts = pts  - np.array([ox, oy])\n",
    "            obj['points'] = pts.tolist()\n",
    "        with open(f'{dst_dir}/{Path(src).name}', 'w') as f:\n",
    "            json.dump(anno, f)\n",
    "        "
   ]
  },
  {
   "cell_type": "code",
   "execution_count": null,
   "metadata": {},
   "outputs": [],
   "source": [
    "for src_dir in tqdm(glob('20201*')):\n",
    "    dst_dir = f'enlarge_{src_dir}'\n",
    "    shutil.rmtree(dst_dir, ignore_errors=True)\n",
    "    Path(dst_dir).mkdir()\n",
    "    enlarge(src_dir, dst_dir)\n",
    "    "
   ]
  },
  {
   "cell_type": "code",
   "execution_count": 12,
   "metadata": {},
   "outputs": [
    {
     "data": {
      "application/vnd.jupyter.widget-view+json": {
       "model_id": "713c2a94543d4753bdac4ccec016687b",
       "version_major": 2,
       "version_minor": 0
      },
      "text/plain": [
       "HBox(children=(IntProgress(value=0, max=67), HTML(value='')))"
      ]
     },
     "metadata": {},
     "output_type": "display_data"
    },
    {
     "name": "stdout",
     "output_type": "stream",
     "text": [
      "\n"
     ]
    }
   ],
   "source": [
    "annos = glob('mobile_enlarge/*.json')\n",
    "anno = annos[0]\n",
    "for anno in tqdm(annos):\n",
    "    dst = 'enlarge_' + '_'.join(Path(anno).stem.split('_')[1:3])\n",
    "    shutil.copy(anno, dst)"
   ]
  },
  {
   "cell_type": "code",
   "execution_count": 50,
   "metadata": {},
   "outputs": [
    {
     "data": {
      "application/vnd.jupyter.widget-view+json": {
       "model_id": "863d9b957e364946a05fe0fbe44965bf",
       "version_major": 2,
       "version_minor": 0
      },
      "text/plain": [
       "HBox(children=(IntProgress(value=0, max=4), HTML(value='')))"
      ]
     },
     "metadata": {},
     "output_type": "display_data"
    },
    {
     "name": "stdout",
     "output_type": "stream",
     "text": [
      "\n"
     ]
    }
   ],
   "source": [
    "for v in tqdm(sorted(glob('enlarge_20201*'))):\n",
    "    jpgs = sorted(glob(f'{v}/*.jpg'))[::15]  \n",
    "    for jpg in jpgs: \n",
    "        json_path = Path(jpg).with_suffix('.json')\n",
    "        if json_path.exists():\n",
    "            base = '_'.join(jpg.split('_')[:-1])\n",
    "            start = int(jpg[-7:-4])\n",
    "            for i in range(1, 15):\n",
    "                no = start + i\n",
    "                dst = f'{base}_{no:03d}.json'\n",
    "                shutil.copy(json_path, dst)\n",
    "                with open(dst) as f:\n",
    "                    anno = json.load(f)\n",
    "                anno['imagePath'] = Path(dst).stem + '.jpg'\n",
    "                with open(dst, 'w') as f:\n",
    "                    json.dump(anno, f)\n",
    "                "
   ]
  },
  {
   "cell_type": "code",
   "execution_count": 44,
   "metadata": {},
   "outputs": [
    {
     "data": {
      "text/plain": [
       "{'version': '4.5.6',\n",
       " 'flags': {},\n",
       " 'shapes': [{'label': 'swoon',\n",
       "   'points': [[1573.814186030983, 326.51620370370375],\n",
       "    [1589.9963274572651, 326.51620370370375],\n",
       "    [1593.4289029113245, 316.3888888888889],\n",
       "    [1590.4866953792734, 265.7523148148147],\n",
       "    [1575.2852897970083, 235.85262345679013],\n",
       "    [1554.1994691506409, 227.17206790123453],\n",
       "    [1516.441139155983, 267.19907407407413],\n",
       "    [1520.8544504540596, 277.80864197530866]],\n",
       "   'group_id': None,\n",
       "   'shape_type': 'polygon',\n",
       "   'flags': {}}],\n",
       " 'imagePath': 'mobile_20201129_172148_285.jpg',\n",
       " 'imageData': None,\n",
       " 'imageHeight': 1080,\n",
       " 'imageWidth': 1920}"
      ]
     },
     "execution_count": 44,
     "metadata": {},
     "output_type": "execute_result"
    }
   ],
   "source": [
    "anno"
   ]
  },
  {
   "cell_type": "code",
   "execution_count": 48,
   "metadata": {},
   "outputs": [
    {
     "data": {
      "text/plain": [
       "{'version': '4.5.6',\n",
       " 'flags': {},\n",
       " 'shapes': [{'label': 'swoon',\n",
       "   'points': [[1573.814186030983, 326.51620370370375],\n",
       "    [1589.9963274572651, 326.51620370370375],\n",
       "    [1593.4289029113245, 316.3888888888889],\n",
       "    [1590.4866953792734, 265.7523148148147],\n",
       "    [1575.2852897970083, 235.85262345679013],\n",
       "    [1554.1994691506409, 227.17206790123453],\n",
       "    [1516.441139155983, 267.19907407407413],\n",
       "    [1520.8544504540596, 277.80864197530866]],\n",
       "   'group_id': None,\n",
       "   'shape_type': 'polygon',\n",
       "   'flags': {}}],\n",
       " 'imagePath': 'mobile_20201129_172148_286.jpg',\n",
       " 'imageData': None,\n",
       " 'imageHeight': 1080,\n",
       " 'imageWidth': 1920}"
      ]
     },
     "execution_count": 48,
     "metadata": {},
     "output_type": "execute_result"
    }
   ],
   "source": [
    "annok"
   ]
  }
 ],
 "metadata": {
  "kernelspec": {
   "display_name": "Python 3",
   "language": "python",
   "name": "python3"
  },
  "language_info": {
   "codemirror_mode": {
    "name": "ipython",
    "version": 3
   },
   "file_extension": ".py",
   "mimetype": "text/x-python",
   "name": "python",
   "nbconvert_exporter": "python",
   "pygments_lexer": "ipython3",
   "version": "3.7.4"
  }
 },
 "nbformat": 4,
 "nbformat_minor": 4
}
