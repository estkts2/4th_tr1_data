{
 "cells": [
  {
   "cell_type": "code",
   "execution_count": null,
   "metadata": {},
   "outputs": [],
   "source": [
    "import random\n",
    "import pandas as pd\n",
    "import numpy as np\n",
    "\n",
    "min_, max_ = 0, 100\n",
    "ais = sorted([random.randint(min_, max_) for _ in range(500)])\n",
    "gt = pd.DataFrame(ais, columns=['ai'])\n",
    "gt['ai'].value_counts().sort_index()"
   ]
  },
  {
   "cell_type": "code",
   "execution_count": null,
   "metadata": {},
   "outputs": [],
   "source": [
    "def f(p):\n",
    "    d = (gt['ai'].values - p)\n",
    "    return (d*d).sum()\n",
    "f0 = f(0)\n",
    "f1 = f(1)\n",
    "\n",
    "def f2(p):\n",
    "    return 500*p*p - (f0-f1+500)*p + f0\n",
    "    \n",
    "for p in range(1000):\n",
    "    assert f(p) == f2(p)"
   ]
  },
  {
   "cell_type": "code",
   "execution_count": null,
   "metadata": {},
   "outputs": [],
   "source": [
    "A = np.empty((max_+1, max_+1))\n",
    "for i in range(max_+1):\n",
    "    for j in range(max_+1):\n",
    "        A[i,j] = (j-i)*(j-i)\n",
    "    A[i,:] = A[i,:] - A[i,-1] \n",
    "F = np.array([f(i) for i in range(max_+1)])"
   ]
  },
  {
   "cell_type": "code",
   "execution_count": null,
   "metadata": {},
   "outputs": [],
   "source": [
    "A_inv = np.linalg.inv(A)\n",
    "N = np.matmul(A_inv, F)\n",
    "N.astype(np.int)"
   ]
  },
  {
   "cell_type": "code",
   "execution_count": null,
   "metadata": {},
   "outputs": [],
   "source": [
    "np.matmul(A, A_inv)[:1, :1]"
   ]
  },
  {
   "cell_type": "code",
   "execution_count": null,
   "metadata": {},
   "outputs": [],
   "source": [
    "k = 3 \n",
    "np.linalg.det(A[:k, :k]), np.matmul(A[:k, :k], np.linalg.inv(A[:k, :k]))"
   ]
  },
  {
   "cell_type": "code",
   "execution_count": null,
   "metadata": {},
   "outputs": [],
   "source": [
    "k = 5\n",
    "T = A[:k, :k]\n",
    "display(T)\n",
    "np.linalg.det(T)"
   ]
  },
  {
   "cell_type": "code",
   "execution_count": null,
   "metadata": {},
   "outputs": [],
   "source": []
  }
 ],
 "metadata": {
  "kernelspec": {
   "display_name": "Python [conda env:mmaction]",
   "language": "python",
   "name": "conda-env-mmaction-py"
  },
  "language_info": {
   "codemirror_mode": {
    "name": "ipython",
    "version": 3
   },
   "file_extension": ".py",
   "mimetype": "text/x-python",
   "name": "python",
   "nbconvert_exporter": "python",
   "pygments_lexer": "ipython3",
   "version": "3.7.0"
  }
 },
 "nbformat": 4,
 "nbformat_minor": 4
}
