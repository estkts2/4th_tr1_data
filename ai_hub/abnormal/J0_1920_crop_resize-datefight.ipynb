{
 "cells": [
  {
   "cell_type": "code",
   "execution_count": 1,
   "metadata": {},
   "outputs": [
    {
     "data": {
      "text/plain": [
       "658"
      ]
     },
     "execution_count": 1,
     "metadata": {},
     "output_type": "execute_result"
    }
   ],
   "source": [
    "import random, json, shutil\n",
    "import imageio, xmltodict, cv2\n",
    "from IPython.display import HTML, Video\n",
    "from tqdm.auto import tqdm\n",
    "from pathlib import Path\n",
    "from PIL import Image\n",
    "from moviepy.editor import ImageSequenceClip\n",
    "\n",
    "TYPE = '10_Datefight'\n",
    "\n",
    "REL_ROOT = f'../../data1/VOD-unzip/{TYPE}'\n",
    "sub_dir  = lambda d: [f for f in Path(d).iterdir() if f.is_dir()]\n",
    "sub_file = lambda d, suffix: [f for f in Path(d).iterdir() if f.suffix==suffix] \n",
    "   \n",
    "dirs = sum([sub_dir(d) for d in sub_dir(REL_ROOT)], [])\n",
    "xmls = sorted(sum([sub_file(d, '.xml') for d in dirs], []))\n",
    "mp4s = [f.with_suffix('.mp4')for f in xmls]\n",
    "len(mp4s)"
   ]
  },
  {
   "cell_type": "code",
   "execution_count": 2,
   "metadata": {},
   "outputs": [],
   "source": [
    "def read_xml(xml):\n",
    "    with open(xml) as xml_file:\n",
    "        anno = xmltodict.parse(xml_file.read())['annotation']\n",
    "    xml_file.close()\n",
    "    return anno\n",
    "\n",
    "def last_falldown(xml):\n",
    "    anno = read_xml(xml)\n",
    "    objs = anno['object']\n",
    "    if not isinstance(objs, list):\n",
    "        objs = [objs]\n",
    "    \n",
    "    fdss = []\n",
    "    for obj in objs:\n",
    "        actions = obj['action']\n",
    "        if not isinstance(actions, list):\n",
    "            actions = [actions]\n",
    "        fds = [a['frame'] for a in actions if a['actionname'] == 'falldown']\n",
    "        for idx, fd in enumerate(fds):\n",
    "            if not isinstance(fd, list):\n",
    "                fds[idx] = [fd]\n",
    "        fdss += fds\n",
    "    fds = sum(fdss, [])\n",
    "        \n",
    "    #if len(fds) == 0 and 'Assault' in TYPE:\n",
    "    if len(fds) == 0 and 'Datefight' in TYPE:\n",
    "        print('no falldown.', xml)\n",
    "        return (False, False) \n",
    "    else:\n",
    "        assert 0 < len(fds)\n",
    "    \n",
    "    \n",
    "    last = (0, 0)\n",
    "    for fd in fds:\n",
    "        if not isinstance(fd, list):\n",
    "            fd = [fd]\n",
    "        last_i = sorted([(int(fd_i['start']), int(fd_i['end'])) for fd_i in fd])[-1]\n",
    "        if last[1] < last_i[1]:\n",
    "            last = last_i\n",
    "    \n",
    "    return last\n",
    "\n",
    "def calc_crop_frame(xml):\n",
    "    s, e = last_falldown(xml)\n",
    "    if s == False:\n",
    "        return (False, False)\n",
    "    s = s + 3*30\n",
    "    if e < s:\n",
    "        s = e\n",
    "    e = random.randint(s, e)\n",
    "    s = e - 20*30\n",
    "    e = e + 20*30\n",
    "    assert 0 < s\n",
    "    return (s, e) \n",
    "\n",
    "def crop_video(mp4, xml):\n",
    "    s, e = calc_crop_frame(xml)\n",
    "    if s == False:\n",
    "        return (False, False)\n",
    "    cap = cv2.VideoCapture(str(mp4))\n",
    "    assert cap.isOpened()\n",
    "    cap.set(cv2.CAP_PROP_POS_FRAMES, s)\n",
    "    fs = []\n",
    "    idxs = []\n",
    "    for i in tqdm(range(s, e)):\n",
    "        ret, f = cap.read()\n",
    "        assert ret\n",
    "        if i%2 == 1:\n",
    "            continue\n",
    "        f = cv2.resize(f[:,:,[2,1,0]], (1920, 1080), cv2.INTER_AREA)\n",
    "        \n",
    "        fs.append(f)\n",
    "        idxs.append(i)\n",
    "        \n",
    "    return fs, idxs\n",
    "\n"
   ]
  },
  {
   "cell_type": "code",
   "execution_count": 3,
   "metadata": {},
   "outputs": [],
   "source": [
    "import os\n",
    "def resize_and_save(mp4, xml, replace=['VOD-unzip', 'VOD-1920']):\n",
    "    out_path_mp4 = str(mp4).replace(replace[0], replace[1]) \n",
    "    out_path_xml = str(xml).replace(replace[0], replace[1]) \n",
    "    if Path(out_path_mp4).exists() and Path(out_path_xml).exists():\n",
    "        return out_path_mp4\n",
    "    fs, idxs = crop_video(mp4, xml)\n",
    "    if fs == False:\n",
    "        return (False, False)\n",
    "    p = Path(out_path_mp4).parent\n",
    "    p.mkdir(parents=True, exist_ok=True)\n",
    "    if p.exists():\n",
    "        print('success ')\n",
    "    else:\n",
    "        print('fail')\n",
    "        \n",
    "    \n",
    "    # 이미지 복사\n",
    "    img_dir = Path('/data1/IMG-1920')/mp4.stem\n",
    "    img_dir.mkdir(exist_ok=True)\n",
    "    for f, idx in tqdm(zip(fs, idxs), total=len(fs)):\n",
    "        path = img_dir/f'{mp4.stem}_{idx:05d}.jpg'\n",
    "        img = Image.fromarray(f)\n",
    "        img.save(path)\n",
    "    \n",
    "    # 동영상 복사\n",
    "    clip = ImageSequenceClip(fs, 15)\n",
    "    clip.write_videofile(str(out_path_mp4))\n",
    "    clip.close()\n",
    "    \n",
    "    # xml 복사\n",
    "    shutil.copy(xml, out_path_xml)\n",
    "    "
   ]
  },
  {
   "cell_type": "code",
   "execution_count": 4,
   "metadata": {},
   "outputs": [
    {
     "name": "stdout",
     "output_type": "stream",
     "text": [
      "Automatic pdb calling has been turned ON\n"
     ]
    },
    {
     "data": {
      "application/vnd.jupyter.widget-view+json": {
       "model_id": "c6d90193f4a24a9fb179f282d45a7b13",
       "version_major": 2,
       "version_minor": 0
      },
      "text/plain": [
       "HBox(children=(FloatProgress(value=0.0, max=658.0), HTML(value='')))"
      ]
     },
     "metadata": {},
     "output_type": "display_data"
    },
    {
     "name": "stdout",
     "output_type": "stream",
     "text": [
      "no falldown. ../../data1/VOD-unzip/10_Datefight/outsidedoor_06/592-3/592-3_cam02_datefight01_place01_day_summer.xml\n",
      "no falldown. ../../data1/VOD-unzip/10_Datefight/outsidedoor_06/592-3/592-3_cam01_datefight01_place01_day_summer.xml\n",
      "no falldown. ../../data1/VOD-unzip/10_Datefight/outsidedoor_06/47-4/47-4_cam02_datefight01_place01_day_summer.xml\n",
      "no falldown. ../../data1/VOD-unzip/10_Datefight/outsidedoor_06/207-4/207-4_cam02_datefight01_place02_night_spring.xml\n",
      "no falldown. ../../data1/VOD-unzip/10_Datefight/outsidedoor_06/207-4/207-4_cam01_datefight01_place02_night_spring.xml\n",
      "no falldown. ../../data1/VOD-unzip/10_Datefight/outsidedoor_06/207-3/207-3_cam02_datefight01_place02_night_summer.xml\n",
      "no falldown. ../../data1/VOD-unzip/10_Datefight/outsidedoor_06/207-3/207-3_cam02_datefight01_place02_night_spring.xml\n",
      "no falldown. ../../data1/VOD-unzip/10_Datefight/outsidedoor_06/207-3/207-3_cam01_datefight01_place02_night_summer.xml\n",
      "no falldown. ../../data1/VOD-unzip/10_Datefight/outsidedoor_06/207-3/207-3_cam01_datefight01_place02_night_spring.xml\n",
      "no falldown. ../../data1/VOD-unzip/10_Datefight/outsidedoor_06/207-2/207-2_cam02_datefight01_place02_night_summer.xml\n",
      "no falldown. ../../data1/VOD-unzip/10_Datefight/outsidedoor_06/207-2/207-2_cam02_datefight01_place02_night_spring.xml\n",
      "no falldown. ../../data1/VOD-unzip/10_Datefight/outsidedoor_06/207-2/207-2_cam01_datefight01_place02_night_summer.xml\n",
      "no falldown. ../../data1/VOD-unzip/10_Datefight/outsidedoor_06/207-2/207-2_cam01_datefight01_place02_night_spring.xml\n",
      "no falldown. ../../data1/VOD-unzip/10_Datefight/outsidedoor_06/207-1/207-1_cam02_datefight01_place02_night_summer.xml\n",
      "no falldown. ../../data1/VOD-unzip/10_Datefight/outsidedoor_06/207-1/207-1_cam02_datefight01_place02_night_spring.xml\n",
      "no falldown. ../../data1/VOD-unzip/10_Datefight/outsidedoor_06/207-1/207-1_cam01_datefight01_place02_night_summer.xml\n",
      "no falldown. ../../data1/VOD-unzip/10_Datefight/outsidedoor_06/207-1/207-1_cam01_datefight01_place02_night_spring.xml\n",
      "no falldown. ../../data1/VOD-unzip/10_Datefight/outsidedoor_06/198-6/198-6_cam02_datefight02_place03_night_summer.xml\n",
      "no falldown. ../../data1/VOD-unzip/10_Datefight/outsidedoor_06/198-6/198-6_cam02_datefight02_place03_night_spring.xml\n",
      "no falldown. ../../data1/VOD-unzip/10_Datefight/outsidedoor_06/198-6/198-6_cam01_datefight02_place03_night_summer.xml\n",
      "no falldown. ../../data1/VOD-unzip/10_Datefight/outsidedoor_06/198-6/198-6_cam01_datefight02_place03_night_spring.xml\n",
      "no falldown. ../../data1/VOD-unzip/10_Datefight/outsidedoor_06/198-5/198-5_cam02_datefight02_place03_night_summer.xml\n",
      "no falldown. ../../data1/VOD-unzip/10_Datefight/outsidedoor_06/198-5/198-5_cam02_datefight02_place03_night_spring.xml\n",
      "no falldown. ../../data1/VOD-unzip/10_Datefight/outsidedoor_06/198-5/198-5_cam01_datefight02_place03_night_summer.xml\n",
      "no falldown. ../../data1/VOD-unzip/10_Datefight/outsidedoor_06/198-5/198-5_cam01_datefight02_place03_night_spring.xml\n",
      "no falldown. ../../data1/VOD-unzip/10_Datefight/outsidedoor_06/198-4/198-4_cam02_datefight02_place03_night_summer.xml\n",
      "no falldown. ../../data1/VOD-unzip/10_Datefight/outsidedoor_06/198-4/198-4_cam02_datefight02_place03_night_spring.xml\n",
      "no falldown. ../../data1/VOD-unzip/10_Datefight/outsidedoor_06/198-4/198-4_cam01_datefight02_place03_night_summer.xml\n",
      "no falldown. ../../data1/VOD-unzip/10_Datefight/outsidedoor_06/198-4/198-4_cam01_datefight02_place03_night_spring.xml\n",
      "no falldown. ../../data1/VOD-unzip/10_Datefight/outsidedoor_06/198-3/198-3_cam02_datefight02_place03_night_summer.xml\n",
      "no falldown. ../../data1/VOD-unzip/10_Datefight/outsidedoor_06/198-3/198-3_cam02_datefight02_place03_night_spring.xml\n",
      "no falldown. ../../data1/VOD-unzip/10_Datefight/outsidedoor_06/198-3/198-3_cam01_datefight02_place03_night_summer.xml\n",
      "no falldown. ../../data1/VOD-unzip/10_Datefight/outsidedoor_06/198-3/198-3_cam01_datefight02_place03_night_spring.xml\n",
      "no falldown. ../../data1/VOD-unzip/10_Datefight/outsidedoor_06/198-2/198-2_cam02_datefight02_place03_night_summer.xml\n",
      "no falldown. ../../data1/VOD-unzip/10_Datefight/outsidedoor_06/198-2/198-2_cam02_datefight02_place03_night_spring.xml\n",
      "no falldown. ../../data1/VOD-unzip/10_Datefight/outsidedoor_06/198-2/198-2_cam01_datefight02_place03_night_summer.xml\n",
      "no falldown. ../../data1/VOD-unzip/10_Datefight/outsidedoor_06/198-2/198-2_cam01_datefight02_place03_night_spring.xml\n",
      "no falldown. ../../data1/VOD-unzip/10_Datefight/outsidedoor_05/198-1/198-1_cam02_datefight02_place03_night_summer.xml\n",
      "no falldown. ../../data1/VOD-unzip/10_Datefight/outsidedoor_05/198-1/198-1_cam02_datefight02_place03_night_spring.xml\n",
      "no falldown. ../../data1/VOD-unzip/10_Datefight/outsidedoor_05/198-1/198-1_cam01_datefight02_place03_night_summer.xml\n",
      "no falldown. ../../data1/VOD-unzip/10_Datefight/outsidedoor_05/198-1/198-1_cam01_datefight02_place03_night_spring.xml\n"
     ]
    },
    {
     "data": {
      "application/vnd.jupyter.widget-view+json": {
       "model_id": "1cbc9f2685e441618602ff6b6cf6aa5c",
       "version_major": 2,
       "version_minor": 0
      },
      "text/plain": [
       "HBox(children=(FloatProgress(value=0.0, max=1200.0), HTML(value='')))"
      ]
     },
     "metadata": {},
     "output_type": "display_data"
    },
    {
     "name": "stdout",
     "output_type": "stream",
     "text": [
      "\n",
      "no falldown. ../../data1/VOD-unzip/10_Datefight/outsidedoor_05/197-5/197-5_cam02_datefight02_place03_night_summer.xml\n",
      "no falldown. ../../data1/VOD-unzip/10_Datefight/outsidedoor_05/197-5/197-5_cam02_datefight02_place03_night_spring.xml\n",
      "no falldown. ../../data1/VOD-unzip/10_Datefight/outsidedoor_05/197-5/197-5_cam01_datefight02_place03_night_summer.xml\n",
      "no falldown. ../../data1/VOD-unzip/10_Datefight/outsidedoor_05/197-5/197-5_cam01_datefight02_place03_night_spring.xml\n",
      "no falldown. ../../data1/VOD-unzip/10_Datefight/outsidedoor_05/197-4/197-4_cam02_datefight02_place03_night_summer.xml\n",
      "no falldown. ../../data1/VOD-unzip/10_Datefight/outsidedoor_05/197-4/197-4_cam02_datefight02_place03_night_spring.xml\n",
      "no falldown. ../../data1/VOD-unzip/10_Datefight/outsidedoor_05/197-4/197-4_cam01_datefight02_place03_night_summer.xml\n",
      "no falldown. ../../data1/VOD-unzip/10_Datefight/outsidedoor_05/197-4/197-4_cam01_datefight02_place03_night_spring.xml\n",
      "no falldown. ../../data1/VOD-unzip/10_Datefight/outsidedoor_05/197-3/197-3_cam02_datefight02_place03_night_summer.xml\n",
      "no falldown. ../../data1/VOD-unzip/10_Datefight/outsidedoor_05/197-3/197-3_cam02_datefight02_place03_night_spring.xml\n",
      "no falldown. ../../data1/VOD-unzip/10_Datefight/outsidedoor_05/197-3/197-3_cam01_datefight02_place03_night_summer.xml\n",
      "no falldown. ../../data1/VOD-unzip/10_Datefight/outsidedoor_05/197-3/197-3_cam01_datefight02_place03_night_spring.xml\n",
      "no falldown. ../../data1/VOD-unzip/10_Datefight/outsidedoor_05/197-2/197-2_cam02_datefight02_place03_night_summer.xml\n",
      "no falldown. ../../data1/VOD-unzip/10_Datefight/outsidedoor_05/197-2/197-2_cam02_datefight02_place03_night_spring.xml\n",
      "no falldown. ../../data1/VOD-unzip/10_Datefight/outsidedoor_05/197-2/197-2_cam01_datefight02_place03_night_summer.xml\n",
      "no falldown. ../../data1/VOD-unzip/10_Datefight/outsidedoor_05/197-2/197-2_cam01_datefight02_place03_night_spring.xml\n",
      "no falldown. ../../data1/VOD-unzip/10_Datefight/outsidedoor_05/196-6/196-6_cam02_datefight02_place02_night_summer.xml\n",
      "no falldown. ../../data1/VOD-unzip/10_Datefight/outsidedoor_05/196-6/196-6_cam02_datefight02_place02_night_spring.xml\n",
      "no falldown. ../../data1/VOD-unzip/10_Datefight/outsidedoor_05/196-6/196-6_cam01_datefight02_place02_night_summer.xml\n",
      "no falldown. ../../data1/VOD-unzip/10_Datefight/outsidedoor_05/196-6/196-6_cam01_datefight02_place02_night_spring.xml\n",
      "no falldown. ../../data1/VOD-unzip/10_Datefight/outsidedoor_05/196-5/196-5_cam02_datefight02_place02_night_summer.xml\n",
      "no falldown. ../../data1/VOD-unzip/10_Datefight/outsidedoor_05/196-5/196-5_cam02_datefight02_place02_night_spring.xml\n",
      "no falldown. ../../data1/VOD-unzip/10_Datefight/outsidedoor_05/196-5/196-5_cam01_datefight02_place02_night_summer.xml\n",
      "no falldown. ../../data1/VOD-unzip/10_Datefight/outsidedoor_05/196-5/196-5_cam01_datefight02_place02_night_spring.xml\n",
      "no falldown. ../../data1/VOD-unzip/10_Datefight/outsidedoor_05/196-4/196-4_cam02_datefight02_place02_night_summer.xml\n",
      "no falldown. ../../data1/VOD-unzip/10_Datefight/outsidedoor_05/196-4/196-4_cam02_datefight02_place02_night_spring.xml\n",
      "no falldown. ../../data1/VOD-unzip/10_Datefight/outsidedoor_05/196-4/196-4_cam01_datefight02_place02_night_summer.xml\n",
      "no falldown. ../../data1/VOD-unzip/10_Datefight/outsidedoor_05/196-4/196-4_cam01_datefight02_place02_night_spring.xml\n",
      "no falldown. ../../data1/VOD-unzip/10_Datefight/outsidedoor_05/196-3/196-3_cam02_datefight02_place02_night_summer.xml\n",
      "no falldown. ../../data1/VOD-unzip/10_Datefight/outsidedoor_05/196-3/196-3_cam02_datefight02_place02_night_spring.xml\n",
      "no falldown. ../../data1/VOD-unzip/10_Datefight/outsidedoor_05/196-3/196-3_cam01_datefight02_place02_night_summer.xml\n",
      "no falldown. ../../data1/VOD-unzip/10_Datefight/outsidedoor_05/196-3/196-3_cam01_datefight02_place02_night_spring.xml\n",
      "no falldown. ../../data1/VOD-unzip/10_Datefight/outsidedoor_05/196-2/196-2_cam02_datefight02_place02_night_summer.xml\n",
      "no falldown. ../../data1/VOD-unzip/10_Datefight/outsidedoor_05/196-2/196-2_cam02_datefight02_place02_night_spring.xml\n",
      "no falldown. ../../data1/VOD-unzip/10_Datefight/outsidedoor_05/196-2/196-2_cam01_datefight02_place02_night_summer.xml\n",
      "no falldown. ../../data1/VOD-unzip/10_Datefight/outsidedoor_05/196-2/196-2_cam01_datefight02_place02_night_spring.xml\n",
      "no falldown. ../../data1/VOD-unzip/10_Datefight/outsidedoor_05/196-1/196-1_cam02_datefight02_place02_night_summer.xml\n",
      "no falldown. ../../data1/VOD-unzip/10_Datefight/outsidedoor_05/196-1/196-1_cam02_datefight02_place02_night_spring.xml\n",
      "no falldown. ../../data1/VOD-unzip/10_Datefight/outsidedoor_05/196-1/196-1_cam01_datefight02_place02_night_summer.xml\n",
      "no falldown. ../../data1/VOD-unzip/10_Datefight/outsidedoor_05/196-1/196-1_cam01_datefight02_place02_night_spring.xml\n",
      "no falldown. ../../data1/VOD-unzip/10_Datefight/outsidedoor_04/195-6/195-6_cam02_datefight02_place03_day_summer.xml\n",
      "no falldown. ../../data1/VOD-unzip/10_Datefight/outsidedoor_04/195-6/195-6_cam02_datefight02_place03_day_spring.xml\n",
      "no falldown. ../../data1/VOD-unzip/10_Datefight/outsidedoor_04/195-6/195-6_cam01_datefight02_place03_day_summer.xml\n",
      "no falldown. ../../data1/VOD-unzip/10_Datefight/outsidedoor_04/195-6/195-6_cam01_datefight02_place03_day_spring.xml\n",
      "no falldown. ../../data1/VOD-unzip/10_Datefight/outsidedoor_04/195-5/195-5_cam02_datefight02_place03_day_summer.xml\n",
      "no falldown. ../../data1/VOD-unzip/10_Datefight/outsidedoor_04/195-5/195-5_cam02_datefight02_place03_day_spring.xml\n",
      "no falldown. ../../data1/VOD-unzip/10_Datefight/outsidedoor_04/195-5/195-5_cam01_datefight02_place03_day_summer.xml\n",
      "no falldown. ../../data1/VOD-unzip/10_Datefight/outsidedoor_04/195-5/195-5_cam01_datefight02_place03_day_spring.xml\n",
      "no falldown. ../../data1/VOD-unzip/10_Datefight/outsidedoor_04/195-4/195-4_cam02_datefight02_place03_day_summer.xml\n",
      "no falldown. ../../data1/VOD-unzip/10_Datefight/outsidedoor_04/195-4/195-4_cam02_datefight02_place03_day_spring.xml\n",
      "no falldown. ../../data1/VOD-unzip/10_Datefight/outsidedoor_04/195-4/195-4_cam01_datefight02_place03_day_summer.xml\n",
      "no falldown. ../../data1/VOD-unzip/10_Datefight/outsidedoor_04/195-4/195-4_cam01_datefight02_place03_day_spring.xml\n",
      "no falldown. ../../data1/VOD-unzip/10_Datefight/outsidedoor_04/195-3/195-3_cam02_datefight02_place03_day_summer.xml\n",
      "no falldown. ../../data1/VOD-unzip/10_Datefight/outsidedoor_04/195-3/195-3_cam02_datefight02_place03_day_spring.xml\n",
      "no falldown. ../../data1/VOD-unzip/10_Datefight/outsidedoor_04/195-3/195-3_cam01_datefight02_place03_day_summer.xml\n",
      "no falldown. ../../data1/VOD-unzip/10_Datefight/outsidedoor_04/195-3/195-3_cam01_datefight02_place03_day_spring.xml\n",
      "no falldown. ../../data1/VOD-unzip/10_Datefight/outsidedoor_04/195-2/195-2_cam02_datefight02_place03_day_summer.xml\n",
      "no falldown. ../../data1/VOD-unzip/10_Datefight/outsidedoor_04/195-2/195-2_cam02_datefight02_place03_day_spring.xml\n",
      "no falldown. ../../data1/VOD-unzip/10_Datefight/outsidedoor_04/195-2/195-2_cam01_datefight02_place03_day_summer.xml\n",
      "no falldown. ../../data1/VOD-unzip/10_Datefight/outsidedoor_04/195-2/195-2_cam01_datefight02_place03_day_spring.xml\n",
      "no falldown. ../../data1/VOD-unzip/10_Datefight/outsidedoor_04/195-1/195-1_cam02_datefight02_place03_day_summer.xml\n",
      "no falldown. ../../data1/VOD-unzip/10_Datefight/outsidedoor_04/195-1/195-1_cam02_datefight02_place03_day_spring.xml\n",
      "no falldown. ../../data1/VOD-unzip/10_Datefight/outsidedoor_04/195-1/195-1_cam01_datefight02_place03_day_summer.xml\n",
      "no falldown. ../../data1/VOD-unzip/10_Datefight/outsidedoor_04/195-1/195-1_cam01_datefight02_place03_day_spring.xml\n",
      "no falldown. ../../data1/VOD-unzip/10_Datefight/outsidedoor_04/193-6/193-6_cam02_datefight02_place02_night_summer.xml\n",
      "no falldown. ../../data1/VOD-unzip/10_Datefight/outsidedoor_04/193-6/193-6_cam02_datefight02_place02_night_spring.xml\n",
      "no falldown. ../../data1/VOD-unzip/10_Datefight/outsidedoor_04/193-6/193-6_cam01_datefight02_place02_night_summer.xml\n",
      "no falldown. ../../data1/VOD-unzip/10_Datefight/outsidedoor_04/193-6/193-6_cam01_datefight02_place02_night_spring.xml\n",
      "no falldown. ../../data1/VOD-unzip/10_Datefight/outsidedoor_04/193-5/193-5_cam02_datefight02_place02_night_summer.xml\n",
      "no falldown. ../../data1/VOD-unzip/10_Datefight/outsidedoor_04/193-5/193-5_cam02_datefight02_place02_night_spring.xml\n",
      "no falldown. ../../data1/VOD-unzip/10_Datefight/outsidedoor_04/193-5/193-5_cam01_datefight02_place02_night_summer.xml\n",
      "no falldown. ../../data1/VOD-unzip/10_Datefight/outsidedoor_04/193-5/193-5_cam01_datefight02_place02_night_spring.xml\n",
      "no falldown. ../../data1/VOD-unzip/10_Datefight/outsidedoor_04/193-4/193-4_cam02_datefight02_place02_night_summer.xml\n",
      "no falldown. ../../data1/VOD-unzip/10_Datefight/outsidedoor_04/193-4/193-4_cam02_datefight02_place02_night_spring.xml\n",
      "no falldown. ../../data1/VOD-unzip/10_Datefight/outsidedoor_04/193-4/193-4_cam01_datefight02_place02_night_summer.xml\n",
      "no falldown. ../../data1/VOD-unzip/10_Datefight/outsidedoor_04/193-4/193-4_cam01_datefight02_place02_night_spring.xml\n",
      "no falldown. ../../data1/VOD-unzip/10_Datefight/outsidedoor_04/193-3/192-3_cam02_datefight01_place01_night_summer.xml\n",
      "no falldown. ../../data1/VOD-unzip/10_Datefight/outsidedoor_04/193-3/192-3_cam02_datefight01_place01_night_spring.xml\n",
      "no falldown. ../../data1/VOD-unzip/10_Datefight/outsidedoor_04/193-3/192-3_cam01_datefight01_place01_night_summer.xml\n",
      "no falldown. ../../data1/VOD-unzip/10_Datefight/outsidedoor_04/193-3/192-3_cam01_datefight01_place01_night_spring.xml\n",
      "no falldown. ../../data1/VOD-unzip/10_Datefight/outsidedoor_04/193-2/193-2_cam02_datefight02_place02_night_summer.xml\n",
      "no falldown. ../../data1/VOD-unzip/10_Datefight/outsidedoor_04/193-2/193-2_cam02_datefight02_place02_night_spring.xml\n",
      "no falldown. ../../data1/VOD-unzip/10_Datefight/outsidedoor_04/193-2/193-2_cam01_datefight02_place02_night_summer.xml\n",
      "no falldown. ../../data1/VOD-unzip/10_Datefight/outsidedoor_04/193-2/193-2_cam01_datefight02_place02_night_spring.xml\n",
      "no falldown. ../../data1/VOD-unzip/10_Datefight/outsidedoor_03/193-1/193-1_cam02_datefight02_place02_night_summer.xml\n",
      "no falldown. ../../data1/VOD-unzip/10_Datefight/outsidedoor_03/193-1/193-1_cam02_datefight02_place02_night_spring.xml\n",
      "no falldown. ../../data1/VOD-unzip/10_Datefight/outsidedoor_03/193-1/193-1_cam01_datefight02_place02_night_summer.xml\n",
      "no falldown. ../../data1/VOD-unzip/10_Datefight/outsidedoor_03/193-1/193-1_cam01_datefight02_place02_night_spring.xml\n"
     ]
    },
    {
     "data": {
      "application/vnd.jupyter.widget-view+json": {
       "model_id": "d2416911c7fc454581dd1a79ff149c56",
       "version_major": 2,
       "version_minor": 0
      },
      "text/plain": [
       "HBox(children=(FloatProgress(value=0.0, max=1200.0), HTML(value='')))"
      ]
     },
     "metadata": {},
     "output_type": "display_data"
    },
    {
     "name": "stdout",
     "output_type": "stream",
     "text": [
      "\n",
      "no falldown. ../../data1/VOD-unzip/10_Datefight/outsidedoor_03/192-3/193-3_cam02_datefight02_place02_night_summer.xml\n",
      "no falldown. ../../data1/VOD-unzip/10_Datefight/outsidedoor_03/192-3/193-3_cam02_datefight02_place02_night_spring.xml\n",
      "no falldown. ../../data1/VOD-unzip/10_Datefight/outsidedoor_03/192-3/193-3_cam01_datefight02_place02_night_summer.xml\n",
      "no falldown. ../../data1/VOD-unzip/10_Datefight/outsidedoor_03/192-3/193-3_cam01_datefight02_place02_night_spring.xml\n",
      "no falldown. ../../data1/VOD-unzip/10_Datefight/outsidedoor_03/192-3/192-3_cam02_datefight01_place01_night_summer.xml\n",
      "no falldown. ../../data1/VOD-unzip/10_Datefight/outsidedoor_03/192-3/192-3_cam02_datefight01_place01_night_spring.xml\n",
      "no falldown. ../../data1/VOD-unzip/10_Datefight/outsidedoor_03/192-3/192-3_cam01_datefight01_place01_night_summer.xml\n",
      "no falldown. ../../data1/VOD-unzip/10_Datefight/outsidedoor_03/192-3/192-3_cam01_datefight01_place01_night_spring.xml\n",
      "no falldown. ../../data1/VOD-unzip/10_Datefight/outsidedoor_03/192-1/192-1_cam02_datefight01_place01_night_summer.xml\n",
      "no falldown. ../../data1/VOD-unzip/10_Datefight/outsidedoor_03/190-6/190-6_cam02_datefight02_place05_night_summer.xml\n",
      "no falldown. ../../data1/VOD-unzip/10_Datefight/outsidedoor_03/190-6/190-6_cam02_datefight02_place05_night_spring.xml\n",
      "no falldown. ../../data1/VOD-unzip/10_Datefight/outsidedoor_03/190-6/190-6_cam01_datefight02_place05_night_summer.xml\n",
      "no falldown. ../../data1/VOD-unzip/10_Datefight/outsidedoor_03/190-6/190-6_cam01_datefight02_place05_night_spring.xml\n",
      "no falldown. ../../data1/VOD-unzip/10_Datefight/outsidedoor_03/190-5/190-5_cam02_datefight02_place05_night_summer.xml\n",
      "no falldown. ../../data1/VOD-unzip/10_Datefight/outsidedoor_03/190-5/190-5_cam02_datefight02_place05_night_spring.xml\n",
      "no falldown. ../../data1/VOD-unzip/10_Datefight/outsidedoor_03/190-5/190-5_cam01_datefight02_place05_night_summer.xml\n",
      "no falldown. ../../data1/VOD-unzip/10_Datefight/outsidedoor_03/190-5/190-5_cam01_datefight02_place05_night_spring.xml\n",
      "no falldown. ../../data1/VOD-unzip/10_Datefight/outsidedoor_03/190-4/190-4_cam01_datefight02_place05_night_spring.xml\n",
      "no falldown. ../../data1/VOD-unzip/10_Datefight/outsidedoor_03/190-3/190-3_cam02_datefight02_place05_night_summer.xml\n",
      "no falldown. ../../data1/VOD-unzip/10_Datefight/outsidedoor_03/190-3/190-3_cam02_datefight02_place05_night_spring.xml\n",
      "no falldown. ../../data1/VOD-unzip/10_Datefight/outsidedoor_03/190-3/190-3_cam01_datefight02_place05_night_summer.xml\n",
      "no falldown. ../../data1/VOD-unzip/10_Datefight/outsidedoor_03/190-3/190-3_cam01_datefight02_place05_night_spring.xml\n",
      "no falldown. ../../data1/VOD-unzip/10_Datefight/outsidedoor_02/190-2/190-2_cam02_datefight02_place05_night_summer.xml\n",
      "no falldown. ../../data1/VOD-unzip/10_Datefight/outsidedoor_02/190-2/190-2_cam02_datefight02_place05_night_spring.xml\n",
      "no falldown. ../../data1/VOD-unzip/10_Datefight/outsidedoor_02/190-2/190-2_cam01_datefight02_place05_night_summer.xml\n",
      "no falldown. ../../data1/VOD-unzip/10_Datefight/outsidedoor_02/190-2/190-2_cam01_datefight02_place05_night_spring.xml\n",
      "no falldown. ../../data1/VOD-unzip/10_Datefight/outsidedoor_02/190-1/190-1_cam02_datefight02_place05_night_summer.xml\n",
      "no falldown. ../../data1/VOD-unzip/10_Datefight/outsidedoor_02/190-1/190-1_cam02_datefight02_place05_night_spring.xml\n",
      "no falldown. ../../data1/VOD-unzip/10_Datefight/outsidedoor_02/190-1/190-1_cam01_datefight02_place05_night_summer.xml\n",
      "no falldown. ../../data1/VOD-unzip/10_Datefight/outsidedoor_02/190-1/190-1_cam01_datefight02_place05_night_spring.xml\n"
     ]
    },
    {
     "data": {
      "application/vnd.jupyter.widget-view+json": {
       "model_id": "b7863c2551a2403a95abe66360d1fce0",
       "version_major": 2,
       "version_minor": 0
      },
      "text/plain": [
       "HBox(children=(FloatProgress(value=0.0, max=1200.0), HTML(value='')))"
      ]
     },
     "metadata": {},
     "output_type": "display_data"
    },
    {
     "name": "stdout",
     "output_type": "stream",
     "text": [
      "\n"
     ]
    },
    {
     "data": {
      "application/vnd.jupyter.widget-view+json": {
       "model_id": "d55d5e5ab7a9439e89b9fca59fbbf295",
       "version_major": 2,
       "version_minor": 0
      },
      "text/plain": [
       "HBox(children=(FloatProgress(value=0.0, max=1200.0), HTML(value='')))"
      ]
     },
     "metadata": {},
     "output_type": "display_data"
    },
    {
     "name": "stdout",
     "output_type": "stream",
     "text": [
      "\n",
      "no falldown. ../../data1/VOD-unzip/10_Datefight/outsidedoor_02/188-4/188-4_cam02_datefight01_place01_day_summer.xml\n"
     ]
    },
    {
     "data": {
      "application/vnd.jupyter.widget-view+json": {
       "model_id": "578d8631776644dda144b70c51b65f65",
       "version_major": 2,
       "version_minor": 0
      },
      "text/plain": [
       "HBox(children=(FloatProgress(value=0.0, max=1200.0), HTML(value='')))"
      ]
     },
     "metadata": {},
     "output_type": "display_data"
    },
    {
     "name": "stdout",
     "output_type": "stream",
     "text": [
      "\n"
     ]
    },
    {
     "data": {
      "application/vnd.jupyter.widget-view+json": {
       "model_id": "b527150062f1432fb26698deb8319b92",
       "version_major": 2,
       "version_minor": 0
      },
      "text/plain": [
       "HBox(children=(FloatProgress(value=0.0, max=1200.0), HTML(value='')))"
      ]
     },
     "metadata": {},
     "output_type": "display_data"
    },
    {
     "name": "stdout",
     "output_type": "stream",
     "text": [
      "\n"
     ]
    },
    {
     "data": {
      "application/vnd.jupyter.widget-view+json": {
       "model_id": "75c1b7cd90184ec0897f1161d7b976f2",
       "version_major": 2,
       "version_minor": 0
      },
      "text/plain": [
       "HBox(children=(FloatProgress(value=0.0, max=1200.0), HTML(value='')))"
      ]
     },
     "metadata": {},
     "output_type": "display_data"
    },
    {
     "name": "stdout",
     "output_type": "stream",
     "text": [
      "\n"
     ]
    },
    {
     "data": {
      "application/vnd.jupyter.widget-view+json": {
       "model_id": "54b6660393924a69800e8421533c6810",
       "version_major": 2,
       "version_minor": 0
      },
      "text/plain": [
       "HBox(children=(FloatProgress(value=0.0, max=1200.0), HTML(value='')))"
      ]
     },
     "metadata": {},
     "output_type": "display_data"
    },
    {
     "name": "stdout",
     "output_type": "stream",
     "text": [
      "\n"
     ]
    },
    {
     "data": {
      "application/vnd.jupyter.widget-view+json": {
       "model_id": "d69ccec976ad40a7920ca4b13dd339f7",
       "version_major": 2,
       "version_minor": 0
      },
      "text/plain": [
       "HBox(children=(FloatProgress(value=0.0, max=1200.0), HTML(value='')))"
      ]
     },
     "metadata": {},
     "output_type": "display_data"
    },
    {
     "name": "stdout",
     "output_type": "stream",
     "text": [
      "\n"
     ]
    },
    {
     "data": {
      "application/vnd.jupyter.widget-view+json": {
       "model_id": "9cc10b8b64aa47689413c0d4e31d5d00",
       "version_major": 2,
       "version_minor": 0
      },
      "text/plain": [
       "HBox(children=(FloatProgress(value=0.0, max=1200.0), HTML(value='')))"
      ]
     },
     "metadata": {},
     "output_type": "display_data"
    },
    {
     "name": "stdout",
     "output_type": "stream",
     "text": [
      "\n",
      "no falldown. ../../data1/VOD-unzip/10_Datefight/outsidedoor_02/187-6/187-6_cam02_datefight01_place02_night_summer.xml\n",
      "no falldown. ../../data1/VOD-unzip/10_Datefight/outsidedoor_02/187-6/187-6_cam01_datefight01_place02_night_summer.xml\n"
     ]
    },
    {
     "data": {
      "application/vnd.jupyter.widget-view+json": {
       "model_id": "aaefd7e6a521494496e26ff9a24df4d1",
       "version_major": 2,
       "version_minor": 0
      },
      "text/plain": [
       "HBox(children=(FloatProgress(value=0.0, max=1200.0), HTML(value='')))"
      ]
     },
     "metadata": {},
     "output_type": "display_data"
    },
    {
     "name": "stdout",
     "output_type": "stream",
     "text": [
      "\n"
     ]
    },
    {
     "data": {
      "application/vnd.jupyter.widget-view+json": {
       "model_id": "8d919dbd2aa943fa891247b0c4aaf5d4",
       "version_major": 2,
       "version_minor": 0
      },
      "text/plain": [
       "HBox(children=(FloatProgress(value=0.0, max=1200.0), HTML(value='')))"
      ]
     },
     "metadata": {},
     "output_type": "display_data"
    },
    {
     "name": "stdout",
     "output_type": "stream",
     "text": [
      "\n",
      "no falldown. ../../data1/VOD-unzip/10_Datefight/outsidedoor_02/187-4/187-4_cam02_datefight01_place02_night_summer.xml\n"
     ]
    },
    {
     "data": {
      "application/vnd.jupyter.widget-view+json": {
       "model_id": "b55b9efe1a4b49aeb1368a57b4d0deb5",
       "version_major": 2,
       "version_minor": 0
      },
      "text/plain": [
       "HBox(children=(FloatProgress(value=0.0, max=1200.0), HTML(value='')))"
      ]
     },
     "metadata": {},
     "output_type": "display_data"
    },
    {
     "name": "stdout",
     "output_type": "stream",
     "text": [
      "\n",
      "no falldown. ../../data1/VOD-unzip/10_Datefight/outsidedoor_02/187-4/187-4_cam01_datefight01_place02_night_summer.xml\n"
     ]
    },
    {
     "data": {
      "application/vnd.jupyter.widget-view+json": {
       "model_id": "2ddc62509b014420aee99bee56b38f85",
       "version_major": 2,
       "version_minor": 0
      },
      "text/plain": [
       "HBox(children=(FloatProgress(value=0.0, max=1200.0), HTML(value='')))"
      ]
     },
     "metadata": {},
     "output_type": "display_data"
    },
    {
     "name": "stdout",
     "output_type": "stream",
     "text": [
      "\n"
     ]
    },
    {
     "data": {
      "application/vnd.jupyter.widget-view+json": {
       "model_id": "de7fccaaf39d47458251139d3b7711e7",
       "version_major": 2,
       "version_minor": 0
      },
      "text/plain": [
       "HBox(children=(FloatProgress(value=0.0, max=1200.0), HTML(value='')))"
      ]
     },
     "metadata": {},
     "output_type": "display_data"
    },
    {
     "name": "stdout",
     "output_type": "stream",
     "text": [
      "\n"
     ]
    },
    {
     "data": {
      "application/vnd.jupyter.widget-view+json": {
       "model_id": "891287ac06e44beba120c89edd4dd020",
       "version_major": 2,
       "version_minor": 0
      },
      "text/plain": [
       "HBox(children=(FloatProgress(value=0.0, max=1200.0), HTML(value='')))"
      ]
     },
     "metadata": {},
     "output_type": "display_data"
    },
    {
     "name": "stdout",
     "output_type": "stream",
     "text": [
      "\n"
     ]
    },
    {
     "data": {
      "application/vnd.jupyter.widget-view+json": {
       "model_id": "6c84d9b84d7e4950bfcb97f62584e350",
       "version_major": 2,
       "version_minor": 0
      },
      "text/plain": [
       "HBox(children=(FloatProgress(value=0.0, max=1200.0), HTML(value='')))"
      ]
     },
     "metadata": {},
     "output_type": "display_data"
    },
    {
     "name": "stdout",
     "output_type": "stream",
     "text": [
      "\n"
     ]
    },
    {
     "data": {
      "application/vnd.jupyter.widget-view+json": {
       "model_id": "02ae51fd5c434395a6c27393eb26a977",
       "version_major": 2,
       "version_minor": 0
      },
      "text/plain": [
       "HBox(children=(FloatProgress(value=0.0, max=1200.0), HTML(value='')))"
      ]
     },
     "metadata": {},
     "output_type": "display_data"
    },
    {
     "name": "stdout",
     "output_type": "stream",
     "text": [
      "\n"
     ]
    },
    {
     "data": {
      "application/vnd.jupyter.widget-view+json": {
       "model_id": "3996e225fe5d4d1fa15fec668724cca7",
       "version_major": 2,
       "version_minor": 0
      },
      "text/plain": [
       "HBox(children=(FloatProgress(value=0.0, max=1200.0), HTML(value='')))"
      ]
     },
     "metadata": {},
     "output_type": "display_data"
    },
    {
     "name": "stdout",
     "output_type": "stream",
     "text": [
      "\n"
     ]
    },
    {
     "data": {
      "application/vnd.jupyter.widget-view+json": {
       "model_id": "5553c060c0b945e1bbdb983935b640c2",
       "version_major": 2,
       "version_minor": 0
      },
      "text/plain": [
       "HBox(children=(FloatProgress(value=0.0, max=1200.0), HTML(value='')))"
      ]
     },
     "metadata": {},
     "output_type": "display_data"
    },
    {
     "name": "stdout",
     "output_type": "stream",
     "text": [
      "\n"
     ]
    },
    {
     "data": {
      "application/vnd.jupyter.widget-view+json": {
       "model_id": "cf53ceeb200d49f789f141a9fb9bf496",
       "version_major": 2,
       "version_minor": 0
      },
      "text/plain": [
       "HBox(children=(FloatProgress(value=0.0, max=1200.0), HTML(value='')))"
      ]
     },
     "metadata": {},
     "output_type": "display_data"
    },
    {
     "name": "stdout",
     "output_type": "stream",
     "text": [
      "\n"
     ]
    },
    {
     "data": {
      "application/vnd.jupyter.widget-view+json": {
       "model_id": "4f9259289a1242f5b5784f162c147fe6",
       "version_major": 2,
       "version_minor": 0
      },
      "text/plain": [
       "HBox(children=(FloatProgress(value=0.0, max=1200.0), HTML(value='')))"
      ]
     },
     "metadata": {},
     "output_type": "display_data"
    },
    {
     "name": "stdout",
     "output_type": "stream",
     "text": [
      "\n"
     ]
    },
    {
     "data": {
      "application/vnd.jupyter.widget-view+json": {
       "model_id": "99add69991db479095b4f8779f1320a3",
       "version_major": 2,
       "version_minor": 0
      },
      "text/plain": [
       "HBox(children=(FloatProgress(value=0.0, max=1200.0), HTML(value='')))"
      ]
     },
     "metadata": {},
     "output_type": "display_data"
    },
    {
     "name": "stdout",
     "output_type": "stream",
     "text": [
      "\n"
     ]
    },
    {
     "data": {
      "application/vnd.jupyter.widget-view+json": {
       "model_id": "bd0999efda44410ca57b23818f5f6f99",
       "version_major": 2,
       "version_minor": 0
      },
      "text/plain": [
       "HBox(children=(FloatProgress(value=0.0, max=1200.0), HTML(value='')))"
      ]
     },
     "metadata": {},
     "output_type": "display_data"
    },
    {
     "name": "stdout",
     "output_type": "stream",
     "text": [
      "\n"
     ]
    },
    {
     "data": {
      "application/vnd.jupyter.widget-view+json": {
       "model_id": "c0fc5aba82994856a0b8b59016e5d71c",
       "version_major": 2,
       "version_minor": 0
      },
      "text/plain": [
       "HBox(children=(FloatProgress(value=0.0, max=1200.0), HTML(value='')))"
      ]
     },
     "metadata": {},
     "output_type": "display_data"
    },
    {
     "name": "stdout",
     "output_type": "stream",
     "text": [
      "\n"
     ]
    },
    {
     "data": {
      "application/vnd.jupyter.widget-view+json": {
       "model_id": "4198622ae1124846bde416e8192fd916",
       "version_major": 2,
       "version_minor": 0
      },
      "text/plain": [
       "HBox(children=(FloatProgress(value=0.0, max=1200.0), HTML(value='')))"
      ]
     },
     "metadata": {},
     "output_type": "display_data"
    },
    {
     "name": "stdout",
     "output_type": "stream",
     "text": [
      "\n"
     ]
    },
    {
     "data": {
      "application/vnd.jupyter.widget-view+json": {
       "model_id": "23a14cac73a74b53b1e236a6d5485b8d",
       "version_major": 2,
       "version_minor": 0
      },
      "text/plain": [
       "HBox(children=(FloatProgress(value=0.0, max=1200.0), HTML(value='')))"
      ]
     },
     "metadata": {},
     "output_type": "display_data"
    },
    {
     "name": "stdout",
     "output_type": "stream",
     "text": [
      "\n"
     ]
    },
    {
     "data": {
      "application/vnd.jupyter.widget-view+json": {
       "model_id": "b5272a0d5f9e45f1a13b8a7c2225a9c1",
       "version_major": 2,
       "version_minor": 0
      },
      "text/plain": [
       "HBox(children=(FloatProgress(value=0.0, max=1200.0), HTML(value='')))"
      ]
     },
     "metadata": {},
     "output_type": "display_data"
    },
    {
     "name": "stdout",
     "output_type": "stream",
     "text": [
      "\n"
     ]
    },
    {
     "data": {
      "application/vnd.jupyter.widget-view+json": {
       "model_id": "02bc860405c74e95af01432118b4ff25",
       "version_major": 2,
       "version_minor": 0
      },
      "text/plain": [
       "HBox(children=(FloatProgress(value=0.0, max=1200.0), HTML(value='')))"
      ]
     },
     "metadata": {},
     "output_type": "display_data"
    },
    {
     "name": "stdout",
     "output_type": "stream",
     "text": [
      "\n"
     ]
    },
    {
     "data": {
      "application/vnd.jupyter.widget-view+json": {
       "model_id": "3e61bb60faed43438b25edee9b6e138f",
       "version_major": 2,
       "version_minor": 0
      },
      "text/plain": [
       "HBox(children=(FloatProgress(value=0.0, max=1200.0), HTML(value='')))"
      ]
     },
     "metadata": {},
     "output_type": "display_data"
    },
    {
     "name": "stdout",
     "output_type": "stream",
     "text": [
      "\n"
     ]
    },
    {
     "data": {
      "application/vnd.jupyter.widget-view+json": {
       "model_id": "8959ac2abe08433cbb8653ea181cc248",
       "version_major": 2,
       "version_minor": 0
      },
      "text/plain": [
       "HBox(children=(FloatProgress(value=0.0, max=1200.0), HTML(value='')))"
      ]
     },
     "metadata": {},
     "output_type": "display_data"
    },
    {
     "name": "stdout",
     "output_type": "stream",
     "text": [
      "\n"
     ]
    },
    {
     "data": {
      "application/vnd.jupyter.widget-view+json": {
       "model_id": "4f65a27a453046378870e19bcc16d1e4",
       "version_major": 2,
       "version_minor": 0
      },
      "text/plain": [
       "HBox(children=(FloatProgress(value=0.0, max=1200.0), HTML(value='')))"
      ]
     },
     "metadata": {},
     "output_type": "display_data"
    },
    {
     "name": "stdout",
     "output_type": "stream",
     "text": [
      "\n"
     ]
    },
    {
     "data": {
      "application/vnd.jupyter.widget-view+json": {
       "model_id": "f71da502f06e4a8eb3e1588c936e7402",
       "version_major": 2,
       "version_minor": 0
      },
      "text/plain": [
       "HBox(children=(FloatProgress(value=0.0, max=1200.0), HTML(value='')))"
      ]
     },
     "metadata": {},
     "output_type": "display_data"
    },
    {
     "name": "stdout",
     "output_type": "stream",
     "text": [
      "\n"
     ]
    },
    {
     "data": {
      "application/vnd.jupyter.widget-view+json": {
       "model_id": "83a9cc1a1a8b42d18eb4df782688c4be",
       "version_major": 2,
       "version_minor": 0
      },
      "text/plain": [
       "HBox(children=(FloatProgress(value=0.0, max=1200.0), HTML(value='')))"
      ]
     },
     "metadata": {},
     "output_type": "display_data"
    },
    {
     "name": "stdout",
     "output_type": "stream",
     "text": [
      "\n",
      "no falldown. ../../data1/VOD-unzip/10_Datefight/outsidedoor_01/183-1/183-1_cam02_datefight02_place06_night_summer.xml\n",
      "no falldown. ../../data1/VOD-unzip/10_Datefight/outsidedoor_01/183-1/183-1_cam02_datefight02_place06_night_spring.xml\n",
      "no falldown. ../../data1/VOD-unzip/10_Datefight/outsidedoor_01/183-1/183-1_cam01_datefight02_place06_night_summer.xml\n",
      "no falldown. ../../data1/VOD-unzip/10_Datefight/outsidedoor_01/183-1/183-1_cam01_datefight02_place06_night_spring.xml\n",
      "no falldown. ../../data1/VOD-unzip/10_Datefight/insidedoor_05/596-4/596-4_cam03_datefight02_place02_night_winter.xml\n",
      "no falldown. ../../data1/VOD-unzip/10_Datefight/insidedoor_05/596-4/596-4_cam03_datefight02_place02_night_summer.xml\n",
      "no falldown. ../../data1/VOD-unzip/10_Datefight/insidedoor_05/596-4/596-4_cam03_datefight02_place02_night_spring.xml\n",
      "no falldown. ../../data1/VOD-unzip/10_Datefight/insidedoor_05/596-4/596-4_cam02_datefight02_place02_night_winter.xml\n",
      "no falldown. ../../data1/VOD-unzip/10_Datefight/insidedoor_05/596-4/596-4_cam02_datefight02_place02_night_summer.xml\n",
      "no falldown. ../../data1/VOD-unzip/10_Datefight/insidedoor_05/596-4/596-4_cam02_datefight02_place02_night_spring.xml\n",
      "no falldown. ../../data1/VOD-unzip/10_Datefight/insidedoor_05/596-4/596-4_cam01_datefight02_place02_night_winter.xml\n",
      "no falldown. ../../data1/VOD-unzip/10_Datefight/insidedoor_05/596-4/596-4_cam01_datefight02_place02_night_summer.xml\n",
      "no falldown. ../../data1/VOD-unzip/10_Datefight/insidedoor_05/596-4/596-4_cam01_datefight02_place02_night_spring.xml\n",
      "no falldown. ../../data1/VOD-unzip/10_Datefight/insidedoor_05/596-3/596-3_cam03_datefight02_place02_night_winter.xml\n",
      "no falldown. ../../data1/VOD-unzip/10_Datefight/insidedoor_05/596-3/596-3_cam03_datefight02_place02_night_summer.xml\n",
      "no falldown. ../../data1/VOD-unzip/10_Datefight/insidedoor_05/596-3/596-3_cam03_datefight02_place02_night_spring.xml\n",
      "no falldown. ../../data1/VOD-unzip/10_Datefight/insidedoor_05/596-3/596-3_cam02_datefight02_place02_night_winter.xml\n",
      "no falldown. ../../data1/VOD-unzip/10_Datefight/insidedoor_05/596-3/596-3_cam02_datefight02_place02_night_summer.xml\n",
      "no falldown. ../../data1/VOD-unzip/10_Datefight/insidedoor_05/596-3/596-3_cam02_datefight02_place02_night_spring.xml\n",
      "no falldown. ../../data1/VOD-unzip/10_Datefight/insidedoor_05/596-3/596-3_cam01_datefight02_place02_night_winter.xml\n",
      "no falldown. ../../data1/VOD-unzip/10_Datefight/insidedoor_05/596-3/596-3_cam01_datefight02_place02_night_summer.xml\n",
      "no falldown. ../../data1/VOD-unzip/10_Datefight/insidedoor_05/596-3/596-3_cam01_datefight02_place02_night_spring.xml\n",
      "no falldown. ../../data1/VOD-unzip/10_Datefight/insidedoor_05/596-2/596-2_cam03_datefight02_place02_night_winter.xml\n",
      "no falldown. ../../data1/VOD-unzip/10_Datefight/insidedoor_05/596-2/596-2_cam03_datefight02_place02_night_summer.xml\n",
      "no falldown. ../../data1/VOD-unzip/10_Datefight/insidedoor_05/596-2/596-2_cam03_datefight02_place02_night_spring.xml\n",
      "no falldown. ../../data1/VOD-unzip/10_Datefight/insidedoor_05/596-2/596-2_cam02_datefight02_place02_night_winter.xml\n",
      "no falldown. ../../data1/VOD-unzip/10_Datefight/insidedoor_05/596-2/596-2_cam02_datefight02_place02_night_summer.xml\n",
      "no falldown. ../../data1/VOD-unzip/10_Datefight/insidedoor_05/596-2/596-2_cam02_datefight02_place02_night_spring.xml\n",
      "no falldown. ../../data1/VOD-unzip/10_Datefight/insidedoor_05/596-2/596-2_cam01_datefight02_place02_night_winter.xml\n",
      "no falldown. ../../data1/VOD-unzip/10_Datefight/insidedoor_05/596-2/596-2_cam01_datefight02_place02_night_summer.xml\n",
      "no falldown. ../../data1/VOD-unzip/10_Datefight/insidedoor_05/596-2/596-2_cam01_datefight02_place02_night_spring.xml\n",
      "no falldown. ../../data1/VOD-unzip/10_Datefight/insidedoor_05/596-1/596-1_cam03_datefight02_place02_night_summer.xml\n",
      "no falldown. ../../data1/VOD-unzip/10_Datefight/insidedoor_05/596-1/596-1_cam03_datefight02_place02_night_spring.xml\n",
      "no falldown. ../../data1/VOD-unzip/10_Datefight/insidedoor_05/596-1/596-1_cam02_datefight02_place02_night_summer.xml\n",
      "no falldown. ../../data1/VOD-unzip/10_Datefight/insidedoor_05/596-1/596-1_cam02_datefight02_place02_night_spring.xml\n",
      "no falldown. ../../data1/VOD-unzip/10_Datefight/insidedoor_05/596-1/596-1_cam01_datefight02_place02_night_summer.xml\n",
      "no falldown. ../../data1/VOD-unzip/10_Datefight/insidedoor_05/596-1/596-1_cam01_datefight02_place02_night_spring.xml\n",
      "no falldown. ../../data1/VOD-unzip/10_Datefight/insidedoor_05/593-6/593-6_cam03_datefight02_place02_night_winter.xml\n",
      "no falldown. ../../data1/VOD-unzip/10_Datefight/insidedoor_05/593-6/593-6_cam03_datefight02_place02_night_summer.xml\n",
      "no falldown. ../../data1/VOD-unzip/10_Datefight/insidedoor_05/593-6/593-6_cam03_datefight02_place02_night_spring.xml\n",
      "no falldown. ../../data1/VOD-unzip/10_Datefight/insidedoor_05/593-6/593-6_cam02_datefight02_place02_night_winter.xml\n",
      "no falldown. ../../data1/VOD-unzip/10_Datefight/insidedoor_05/593-6/593-6_cam02_datefight02_place02_night_summer.xml\n",
      "no falldown. ../../data1/VOD-unzip/10_Datefight/insidedoor_05/593-6/593-6_cam02_datefight02_place02_night_spring.xml\n",
      "no falldown. ../../data1/VOD-unzip/10_Datefight/insidedoor_05/593-6/593-6_cam01_datefight02_place02_night_winter.xml\n",
      "no falldown. ../../data1/VOD-unzip/10_Datefight/insidedoor_05/593-6/593-6_cam01_datefight02_place02_night_summer.xml\n",
      "no falldown. ../../data1/VOD-unzip/10_Datefight/insidedoor_05/593-6/593-6_cam01_datefight02_place02_night_spring.xml\n",
      "no falldown. ../../data1/VOD-unzip/10_Datefight/insidedoor_05/593-5/593-5_cam03_datefight02_place02_night_winter.xml\n",
      "no falldown. ../../data1/VOD-unzip/10_Datefight/insidedoor_05/593-5/593-5_cam03_datefight02_place02_night_summer.xml\n",
      "no falldown. ../../data1/VOD-unzip/10_Datefight/insidedoor_05/593-5/593-5_cam03_datefight02_place02_night_spring.xml\n",
      "no falldown. ../../data1/VOD-unzip/10_Datefight/insidedoor_05/593-5/593-5_cam02_datefight02_place02_night_winter.xml\n",
      "no falldown. ../../data1/VOD-unzip/10_Datefight/insidedoor_05/593-5/593-5_cam02_datefight02_place02_night_summer.xml\n",
      "no falldown. ../../data1/VOD-unzip/10_Datefight/insidedoor_05/593-5/593-5_cam02_datefight02_place02_night_spring.xml\n",
      "no falldown. ../../data1/VOD-unzip/10_Datefight/insidedoor_05/593-5/593-5_cam01_datefight02_place02_night_winter.xml\n",
      "no falldown. ../../data1/VOD-unzip/10_Datefight/insidedoor_05/593-5/593-5_cam01_datefight02_place02_night_summer.xml\n",
      "no falldown. ../../data1/VOD-unzip/10_Datefight/insidedoor_05/593-5/593-5_cam01_datefight02_place02_night_spring.xml\n",
      "no falldown. ../../data1/VOD-unzip/10_Datefight/insidedoor_04/593-4/593-4_cam03_datefight02_place02_night_winter.xml\n",
      "no falldown. ../../data1/VOD-unzip/10_Datefight/insidedoor_04/593-4/593-4_cam03_datefight02_place02_night_summer.xml\n",
      "no falldown. ../../data1/VOD-unzip/10_Datefight/insidedoor_04/593-4/593-4_cam03_datefight02_place02_night_spring.xml\n",
      "no falldown. ../../data1/VOD-unzip/10_Datefight/insidedoor_04/593-4/593-4_cam02_datefight02_place02_night_winter.xml\n",
      "no falldown. ../../data1/VOD-unzip/10_Datefight/insidedoor_04/593-4/593-4_cam02_datefight02_place02_night_summer.xml\n",
      "no falldown. ../../data1/VOD-unzip/10_Datefight/insidedoor_04/593-4/593-4_cam02_datefight02_place02_night_spring.xml\n",
      "no falldown. ../../data1/VOD-unzip/10_Datefight/insidedoor_04/593-4/593-4_cam01_datefight02_place02_night_winter.xml\n",
      "no falldown. ../../data1/VOD-unzip/10_Datefight/insidedoor_04/593-4/593-4_cam01_datefight02_place02_night_summer.xml\n",
      "no falldown. ../../data1/VOD-unzip/10_Datefight/insidedoor_04/593-4/593-4_cam01_datefight02_place02_night_spring.xml\n",
      "no falldown. ../../data1/VOD-unzip/10_Datefight/insidedoor_04/593-3/593-3_cam03_datefight02_place02_night_winter.xml\n",
      "no falldown. ../../data1/VOD-unzip/10_Datefight/insidedoor_04/593-3/593-3_cam03_datefight02_place02_night_summer.xml\n",
      "no falldown. ../../data1/VOD-unzip/10_Datefight/insidedoor_04/593-3/593-3_cam03_datefight02_place02_night_spring.xml\n",
      "no falldown. ../../data1/VOD-unzip/10_Datefight/insidedoor_04/593-3/593-3_cam02_datefight02_place02_night_winter.xml\n",
      "no falldown. ../../data1/VOD-unzip/10_Datefight/insidedoor_04/593-3/593-3_cam02_datefight02_place02_night_summer.xml\n",
      "no falldown. ../../data1/VOD-unzip/10_Datefight/insidedoor_04/593-3/593-3_cam02_datefight02_place02_night_spring.xml\n",
      "no falldown. ../../data1/VOD-unzip/10_Datefight/insidedoor_04/593-3/593-3_cam01_datefight02_place02_night_winter.xml\n",
      "no falldown. ../../data1/VOD-unzip/10_Datefight/insidedoor_04/593-3/593-3_cam01_datefight02_place02_night_summer.xml\n",
      "no falldown. ../../data1/VOD-unzip/10_Datefight/insidedoor_04/593-3/593-3_cam01_datefight02_place02_night_spring.xml\n",
      "no falldown. ../../data1/VOD-unzip/10_Datefight/insidedoor_04/593-2/593-2_cam03_datefight02_place02_night_winter.xml\n",
      "no falldown. ../../data1/VOD-unzip/10_Datefight/insidedoor_04/593-2/593-2_cam03_datefight02_place02_night_summer.xml\n",
      "no falldown. ../../data1/VOD-unzip/10_Datefight/insidedoor_04/593-2/593-2_cam03_datefight02_place02_night_spring.xml\n",
      "no falldown. ../../data1/VOD-unzip/10_Datefight/insidedoor_04/593-2/593-2_cam02_datefight02_place02_night_winter.xml\n",
      "no falldown. ../../data1/VOD-unzip/10_Datefight/insidedoor_04/593-2/593-2_cam02_datefight02_place02_night_summer.xml\n",
      "no falldown. ../../data1/VOD-unzip/10_Datefight/insidedoor_04/593-2/593-2_cam02_datefight02_place02_night_spring.xml\n",
      "no falldown. ../../data1/VOD-unzip/10_Datefight/insidedoor_04/593-2/593-2_cam01_datefight02_place02_night_winter.xml\n",
      "no falldown. ../../data1/VOD-unzip/10_Datefight/insidedoor_04/593-2/593-2_cam01_datefight02_place02_night_summer.xml\n",
      "no falldown. ../../data1/VOD-unzip/10_Datefight/insidedoor_04/593-2/593-2_cam01_datefight02_place02_night_spring.xml\n",
      "no falldown. ../../data1/VOD-unzip/10_Datefight/insidedoor_04/593-1/593-1_cam03_datefight02_place02_night_winter.xml\n",
      "no falldown. ../../data1/VOD-unzip/10_Datefight/insidedoor_04/593-1/593-1_cam03_datefight02_place02_night_summer.xml\n",
      "no falldown. ../../data1/VOD-unzip/10_Datefight/insidedoor_04/593-1/593-1_cam03_datefight02_place02_night_spring.xml\n",
      "no falldown. ../../data1/VOD-unzip/10_Datefight/insidedoor_04/593-1/593-1_cam02_datefight02_place02_night_winter.xml\n",
      "no falldown. ../../data1/VOD-unzip/10_Datefight/insidedoor_04/593-1/593-1_cam02_datefight02_place02_night_summer.xml\n",
      "no falldown. ../../data1/VOD-unzip/10_Datefight/insidedoor_04/593-1/593-1_cam02_datefight02_place02_night_spring.xml\n",
      "no falldown. ../../data1/VOD-unzip/10_Datefight/insidedoor_04/593-1/593-1_cam01_datefight02_place02_night_winter.xml\n",
      "no falldown. ../../data1/VOD-unzip/10_Datefight/insidedoor_04/593-1/593-1_cam01_datefight02_place02_night_summer.xml\n",
      "no falldown. ../../data1/VOD-unzip/10_Datefight/insidedoor_04/593-1/593-1_cam01_datefight02_place02_night_spring.xml\n",
      "no falldown. ../../data1/VOD-unzip/10_Datefight/insidedoor_03/579-5_robbery01_place01_night/579-5_cam03_robbery01_place01_night_winter.xml\n",
      "no falldown. ../../data1/VOD-unzip/10_Datefight/insidedoor_03/579-5_robbery01_place01_night/579-5_cam03_robbery01_place01_night_summer.xml\n",
      "no falldown. ../../data1/VOD-unzip/10_Datefight/insidedoor_03/579-5_robbery01_place01_night/579-5_cam03_robbery01_place01_night_spring.xml\n",
      "no falldown. ../../data1/VOD-unzip/10_Datefight/insidedoor_03/579-5_robbery01_place01_night/579-5_cam02_robbery01_place01_night_winter.xml\n",
      "no falldown. ../../data1/VOD-unzip/10_Datefight/insidedoor_03/579-5_robbery01_place01_night/579-5_cam02_robbery01_place01_night_summer.xml\n",
      "no falldown. ../../data1/VOD-unzip/10_Datefight/insidedoor_03/579-5_robbery01_place01_night/579-5_cam02_robbery01_place01_night_spring.xml\n",
      "no falldown. ../../data1/VOD-unzip/10_Datefight/insidedoor_03/579-5_robbery01_place01_night/579-5_cam01_robbery01_place01_night_winter.xml\n",
      "no falldown. ../../data1/VOD-unzip/10_Datefight/insidedoor_03/579-5_robbery01_place01_night/579-5_cam01_robbery01_place01_night_summer.xml\n",
      "no falldown. ../../data1/VOD-unzip/10_Datefight/insidedoor_03/579-5_robbery01_place01_night/579-5_cam01_robbery01_place01_night_spring.xml\n",
      "no falldown. ../../data1/VOD-unzip/10_Datefight/insidedoor_03/579-3_robbery01_place01_night/579-3_cam03_robbery01_place01_night_winter.xml\n",
      "no falldown. ../../data1/VOD-unzip/10_Datefight/insidedoor_03/579-3_robbery01_place01_night/579-3_cam02_robbery01_place01_night_winter.xml\n",
      "no falldown. ../../data1/VOD-unzip/10_Datefight/insidedoor_03/576-6_robbery02_place02_night/576-6_cam03_robbery02_place02_night_spring.xml\n",
      "no falldown. ../../data1/VOD-unzip/10_Datefight/insidedoor_03/576-6_robbery02_place02_night/576-6_cam02_robbery02_place02_night_spring.xml\n",
      "no falldown. ../../data1/VOD-unzip/10_Datefight/insidedoor_03/576-5_robbery02_place02_night/576-5_cam03_robbery02_place02_night_winter.xml\n",
      "no falldown. ../../data1/VOD-unzip/10_Datefight/insidedoor_03/576-5_robbery02_place02_night/576-5_cam03_robbery02_place02_night_summer.xml\n",
      "no falldown. ../../data1/VOD-unzip/10_Datefight/insidedoor_03/576-5_robbery02_place02_night/576-5_cam03_robbery02_place02_night_spring.xml\n",
      "no falldown. ../../data1/VOD-unzip/10_Datefight/insidedoor_03/576-5_robbery02_place02_night/576-5_cam02_robbery02_place02_night_winter.xml\n",
      "no falldown. ../../data1/VOD-unzip/10_Datefight/insidedoor_03/576-5_robbery02_place02_night/576-5_cam02_robbery02_place02_night_summer.xml\n",
      "no falldown. ../../data1/VOD-unzip/10_Datefight/insidedoor_03/576-5_robbery02_place02_night/576-5_cam02_robbery02_place02_night_spring.xml\n",
      "no falldown. ../../data1/VOD-unzip/10_Datefight/insidedoor_03/576-5_robbery02_place02_night/576-5_cam01_robbery02_place02_night_winter.xml\n",
      "no falldown. ../../data1/VOD-unzip/10_Datefight/insidedoor_03/576-5_robbery02_place02_night/576-5_cam01_robbery02_place02_night_summer.xml\n",
      "no falldown. ../../data1/VOD-unzip/10_Datefight/insidedoor_03/576-5_robbery02_place02_night/576-5_cam01_robbery02_place02_night_spring.xml\n",
      "no falldown. ../../data1/VOD-unzip/10_Datefight/insidedoor_02/576-4_robbery02_place02_night/576-4_cam03_robbery02_place02_night_winter.xml\n",
      "no falldown. ../../data1/VOD-unzip/10_Datefight/insidedoor_02/576-4_robbery02_place02_night/576-4_cam03_robbery02_place02_night_summer.xml\n",
      "no falldown. ../../data1/VOD-unzip/10_Datefight/insidedoor_02/576-4_robbery02_place02_night/576-4_cam03_robbery02_place02_night_spring.xml\n",
      "no falldown. ../../data1/VOD-unzip/10_Datefight/insidedoor_02/576-4_robbery02_place02_night/576-4_cam02_robbery02_place02_night_winter.xml\n",
      "no falldown. ../../data1/VOD-unzip/10_Datefight/insidedoor_02/576-4_robbery02_place02_night/576-4_cam02_robbery02_place02_night_summer.xml\n",
      "no falldown. ../../data1/VOD-unzip/10_Datefight/insidedoor_02/576-4_robbery02_place02_night/576-4_cam02_robbery02_place02_night_spring.xml\n",
      "no falldown. ../../data1/VOD-unzip/10_Datefight/insidedoor_02/576-4_robbery02_place02_night/576-4_cam01_robbery02_place02_night_winter.xml\n",
      "no falldown. ../../data1/VOD-unzip/10_Datefight/insidedoor_02/576-4_robbery02_place02_night/576-4_cam01_robbery02_place02_night_summer.xml\n",
      "no falldown. ../../data1/VOD-unzip/10_Datefight/insidedoor_02/576-4_robbery02_place02_night/576-4_cam01_robbery02_place02_night_spring.xml\n",
      "no falldown. ../../data1/VOD-unzip/10_Datefight/insidedoor_02/576-3_robbery02_place02_night/576-3_cam03_robbery02_place02_night_winter.xml\n",
      "no falldown. ../../data1/VOD-unzip/10_Datefight/insidedoor_02/576-3_robbery02_place02_night/576-3_cam03_robbery02_place02_night_summer.xml\n",
      "no falldown. ../../data1/VOD-unzip/10_Datefight/insidedoor_02/576-3_robbery02_place02_night/576-3_cam03_robbery02_place02_night_spring.xml\n",
      "no falldown. ../../data1/VOD-unzip/10_Datefight/insidedoor_02/576-3_robbery02_place02_night/576-3_cam02_robbery02_place02_night_winter.xml\n",
      "no falldown. ../../data1/VOD-unzip/10_Datefight/insidedoor_02/576-3_robbery02_place02_night/576-3_cam02_robbery02_place02_night_summer.xml\n",
      "no falldown. ../../data1/VOD-unzip/10_Datefight/insidedoor_02/576-3_robbery02_place02_night/576-3_cam02_robbery02_place02_night_spring.xml\n",
      "no falldown. ../../data1/VOD-unzip/10_Datefight/insidedoor_02/576-3_robbery02_place02_night/576-3_cam01_robbery02_place02_night_winter.xml\n",
      "no falldown. ../../data1/VOD-unzip/10_Datefight/insidedoor_02/576-3_robbery02_place02_night/576-3_cam01_robbery02_place02_night_summer.xml\n",
      "no falldown. ../../data1/VOD-unzip/10_Datefight/insidedoor_02/576-3_robbery02_place02_night/576-3_cam01_robbery02_place02_night_spring.xml\n",
      "no falldown. ../../data1/VOD-unzip/10_Datefight/insidedoor_02/576-2_robbery02_place02_night/576-2_cam03_robbery02_place02_night_winter.xml\n",
      "no falldown. ../../data1/VOD-unzip/10_Datefight/insidedoor_02/576-2_robbery02_place02_night/576-2_cam03_robbery02_place02_night_summer.xml\n",
      "no falldown. ../../data1/VOD-unzip/10_Datefight/insidedoor_02/576-2_robbery02_place02_night/576-2_cam03_robbery02_place02_night_spring.xml\n",
      "no falldown. ../../data1/VOD-unzip/10_Datefight/insidedoor_02/576-2_robbery02_place02_night/576-2_cam02_robbery02_place02_night_winter.xml\n",
      "no falldown. ../../data1/VOD-unzip/10_Datefight/insidedoor_02/576-2_robbery02_place02_night/576-2_cam02_robbery02_place02_night_summer.xml\n",
      "no falldown. ../../data1/VOD-unzip/10_Datefight/insidedoor_02/576-2_robbery02_place02_night/576-2_cam02_robbery02_place02_night_spring.xml\n",
      "no falldown. ../../data1/VOD-unzip/10_Datefight/insidedoor_02/576-2_robbery02_place02_night/576-2_cam01_robbery02_place02_night_winter.xml\n",
      "no falldown. ../../data1/VOD-unzip/10_Datefight/insidedoor_02/576-2_robbery02_place02_night/576-2_cam01_robbery02_place02_night_summer.xml\n",
      "no falldown. ../../data1/VOD-unzip/10_Datefight/insidedoor_02/576-2_robbery02_place02_night/576-2_cam01_robbery02_place02_night_spring.xml\n",
      "no falldown. ../../data1/VOD-unzip/10_Datefight/insidedoor_02/576-1_robbery02_place02_night/576-1_cam03_robbery02_place02_night_winter.xml\n",
      "no falldown. ../../data1/VOD-unzip/10_Datefight/insidedoor_02/576-1_robbery02_place02_night/576-1_cam03_robbery02_place02_night_summer.xml\n",
      "no falldown. ../../data1/VOD-unzip/10_Datefight/insidedoor_02/576-1_robbery02_place02_night/576-1_cam03_robbery02_place02_night_spring.xml\n",
      "no falldown. ../../data1/VOD-unzip/10_Datefight/insidedoor_02/576-1_robbery02_place02_night/576-1_cam02_robbery02_place02_night_winter.xml\n",
      "no falldown. ../../data1/VOD-unzip/10_Datefight/insidedoor_02/576-1_robbery02_place02_night/576-1_cam02_robbery02_place02_night_summer.xml\n",
      "no falldown. ../../data1/VOD-unzip/10_Datefight/insidedoor_02/576-1_robbery02_place02_night/576-1_cam02_robbery02_place02_night_spring.xml\n",
      "no falldown. ../../data1/VOD-unzip/10_Datefight/insidedoor_02/576-1_robbery02_place02_night/576-1_cam01_robbery02_place02_night_winter.xml\n",
      "no falldown. ../../data1/VOD-unzip/10_Datefight/insidedoor_02/576-1_robbery02_place02_night/576-1_cam01_robbery02_place02_night_summer.xml\n",
      "no falldown. ../../data1/VOD-unzip/10_Datefight/insidedoor_02/576-1_robbery02_place02_night/576-1_cam01_robbery02_place02_night_spring.xml\n",
      "no falldown. ../../data1/VOD-unzip/10_Datefight/insidedoor_02/575-5_robbery01_place02_night/575-5_cam03_robbery01_place02_night_winter.xml\n",
      "no falldown. ../../data1/VOD-unzip/10_Datefight/insidedoor_02/575-5_robbery01_place02_night/575-5_cam03_robbery01_place02_night_summer.xml\n",
      "no falldown. ../../data1/VOD-unzip/10_Datefight/insidedoor_02/575-5_robbery01_place02_night/575-5_cam03_robbery01_place02_night_spring.xml\n",
      "no falldown. ../../data1/VOD-unzip/10_Datefight/insidedoor_02/575-5_robbery01_place02_night/575-5_cam02_robbery01_place02_night_winter.xml\n",
      "no falldown. ../../data1/VOD-unzip/10_Datefight/insidedoor_02/575-5_robbery01_place02_night/575-5_cam02_robbery01_place02_night_summer.xml\n",
      "no falldown. ../../data1/VOD-unzip/10_Datefight/insidedoor_02/575-5_robbery01_place02_night/575-5_cam02_robbery01_place02_night_spring.xml\n",
      "no falldown. ../../data1/VOD-unzip/10_Datefight/insidedoor_02/575-5_robbery01_place02_night/575-5_cam01_robbery01_place02_night_winter.xml\n",
      "no falldown. ../../data1/VOD-unzip/10_Datefight/insidedoor_02/575-5_robbery01_place02_night/575-5_cam01_robbery01_place02_night_summer.xml\n",
      "no falldown. ../../data1/VOD-unzip/10_Datefight/insidedoor_02/575-5_robbery01_place02_night/575-5_cam01_robbery01_place02_night_spring.xml\n",
      "no falldown. ../../data1/VOD-unzip/10_Datefight/insidedoor_01/189-2/189-2_cam03_datefight01_place09_night_winter.xml\n",
      "no falldown. ../../data1/VOD-unzip/10_Datefight/insidedoor_01/189-2/189-2_cam03_datefight01_place09_night_summer.xml\n",
      "no falldown. ../../data1/VOD-unzip/10_Datefight/insidedoor_01/189-2/189-2_cam03_datefight01_place09_night_spring.xml\n",
      "no falldown. ../../data1/VOD-unzip/10_Datefight/insidedoor_01/189-2/189-2_cam02_datefight01_place09_night_winter.xml\n",
      "no falldown. ../../data1/VOD-unzip/10_Datefight/insidedoor_01/189-2/189-2_cam02_datefight01_place09_night_summer.xml\n",
      "no falldown. ../../data1/VOD-unzip/10_Datefight/insidedoor_01/189-2/189-2_cam02_datefight01_place09_night_spring.xml\n",
      "no falldown. ../../data1/VOD-unzip/10_Datefight/insidedoor_01/189-2/189-2_cam01_datefight01_place09_night_winter.xml\n",
      "no falldown. ../../data1/VOD-unzip/10_Datefight/insidedoor_01/189-2/189-2_cam01_datefight01_place09_night_summer.xml\n",
      "no falldown. ../../data1/VOD-unzip/10_Datefight/insidedoor_01/189-2/189-2_cam01_datefight01_place09_night_spring.xml\n",
      "no falldown. ../../data1/VOD-unzip/10_Datefight/insidedoor_01/184-6/184-6_cam03_datefight01_place01_night_winter.xml\n",
      "no falldown. ../../data1/VOD-unzip/10_Datefight/insidedoor_01/184-6/184-6_cam03_datefight01_place01_night_summer.xml\n",
      "no falldown. ../../data1/VOD-unzip/10_Datefight/insidedoor_01/184-6/184-6_cam03_datefight01_place01_night_spring.xml\n",
      "no falldown. ../../data1/VOD-unzip/10_Datefight/insidedoor_01/184-6/184-6_cam02_datefight01_place01_night_winter.xml\n",
      "no falldown. ../../data1/VOD-unzip/10_Datefight/insidedoor_01/184-6/184-6_cam02_datefight01_place01_night_summer.xml\n",
      "no falldown. ../../data1/VOD-unzip/10_Datefight/insidedoor_01/184-6/184-6_cam02_datefight01_place01_night_spring.xml\n",
      "no falldown. ../../data1/VOD-unzip/10_Datefight/insidedoor_01/184-6/184-6_cam01_datefight01_place01_night_winter.xml\n",
      "no falldown. ../../data1/VOD-unzip/10_Datefight/insidedoor_01/184-6/184-6_cam01_datefight01_place01_night_summer.xml\n",
      "no falldown. ../../data1/VOD-unzip/10_Datefight/insidedoor_01/184-6/184-6_cam01_datefight01_place01_night_spring.xml\n",
      "no falldown. ../../data1/VOD-unzip/10_Datefight/insidedoor_01/184-5/184-5_cam03_datefight01_place01_night_winter.xml\n",
      "no falldown. ../../data1/VOD-unzip/10_Datefight/insidedoor_01/184-5/184-5_cam03_datefight01_place01_night_summer.xml\n",
      "no falldown. ../../data1/VOD-unzip/10_Datefight/insidedoor_01/184-5/184-5_cam03_datefight01_place01_night_spring.xml\n",
      "no falldown. ../../data1/VOD-unzip/10_Datefight/insidedoor_01/184-5/184-5_cam02_datefight01_place01_night_winter.xml\n",
      "no falldown. ../../data1/VOD-unzip/10_Datefight/insidedoor_01/184-5/184-5_cam02_datefight01_place01_night_summer.xml\n",
      "no falldown. ../../data1/VOD-unzip/10_Datefight/insidedoor_01/184-5/184-5_cam02_datefight01_place01_night_spring.xml\n",
      "no falldown. ../../data1/VOD-unzip/10_Datefight/insidedoor_01/184-5/184-5_cam01_datefight01_place01_night_winter.xml\n",
      "no falldown. ../../data1/VOD-unzip/10_Datefight/insidedoor_01/184-5/184-5_cam01_datefight01_place01_night_summer.xml\n",
      "no falldown. ../../data1/VOD-unzip/10_Datefight/insidedoor_01/184-5/184-5_cam01_datefight01_place01_night_spring.xml\n",
      "no falldown. ../../data1/VOD-unzip/10_Datefight/insidedoor_01/184-3/184-3_cam03_datefight01_place01_night_winter.xml\n",
      "no falldown. ../../data1/VOD-unzip/10_Datefight/insidedoor_01/184-3/184-3_cam03_datefight01_place01_night_summer.xml\n",
      "no falldown. ../../data1/VOD-unzip/10_Datefight/insidedoor_01/184-3/184-3_cam03_datefight01_place01_night_spring.xml\n",
      "no falldown. ../../data1/VOD-unzip/10_Datefight/insidedoor_01/184-3/184-3_cam02_datefight01_place01_night_winter.xml\n",
      "no falldown. ../../data1/VOD-unzip/10_Datefight/insidedoor_01/184-3/184-3_cam02_datefight01_place01_night_summer.xml\n",
      "no falldown. ../../data1/VOD-unzip/10_Datefight/insidedoor_01/184-3/184-3_cam02_datefight01_place01_night_spring.xml\n",
      "no falldown. ../../data1/VOD-unzip/10_Datefight/insidedoor_01/184-3/184-3_cam01_datefight01_place01_night_winter.xml\n",
      "no falldown. ../../data1/VOD-unzip/10_Datefight/insidedoor_01/184-3/184-3_cam01_datefight01_place01_night_summer.xml\n",
      "no falldown. ../../data1/VOD-unzip/10_Datefight/insidedoor_01/184-3/184-3_cam01_datefight01_place01_night_spring.xml\n",
      "no falldown. ../../data1/VOD-unzip/10_Datefight/insidedoor_01/184-1/184-1_cam03_datefight01_place01_night_winter.xml\n",
      "no falldown. ../../data1/VOD-unzip/10_Datefight/insidedoor_01/184-1/184-1_cam03_datefight01_place01_night_summer.xml\n",
      "no falldown. ../../data1/VOD-unzip/10_Datefight/insidedoor_01/184-1/184-1_cam03_datefight01_place01_night_spring.xml\n",
      "no falldown. ../../data1/VOD-unzip/10_Datefight/insidedoor_01/184-1/184-1_cam02_datefight01_place01_night_winter.xml\n",
      "no falldown. ../../data1/VOD-unzip/10_Datefight/insidedoor_01/184-1/184-1_cam02_datefight01_place01_night_summer.xml\n",
      "no falldown. ../../data1/VOD-unzip/10_Datefight/insidedoor_01/184-1/184-1_cam02_datefight01_place01_night_spring.xml\n",
      "no falldown. ../../data1/VOD-unzip/10_Datefight/insidedoor_01/184-1/184-1_cam01_datefight01_place01_night_winter.xml\n",
      "no falldown. ../../data1/VOD-unzip/10_Datefight/insidedoor_01/184-1/184-1_cam01_datefight01_place01_night_summer.xml\n",
      "no falldown. ../../data1/VOD-unzip/10_Datefight/insidedoor_01/184-1/184-1_cam01_datefight01_place01_night_spring.xml\n",
      "\n"
     ]
    }
   ],
   "source": [
    "JOB_ID = 0\n",
    "%pdb on\n",
    "total = len(mp4s)\n",
    "mp4s = reversed(mp4s)\n",
    "xmls = reversed(xmls)\n",
    "\n",
    "errored = []\n",
    "for i, (mp4, xml) in enumerate(tqdm(zip(mp4s, xmls), total=total)):\n",
    "    if i % 1 == JOB_ID:\n",
    "        try:\n",
    "            resize_and_save(mp4, xml)\n",
    "        except:\n",
    "            errored.append(mp4)"
   ]
  },
  {
   "cell_type": "code",
   "execution_count": 5,
   "metadata": {},
   "outputs": [
    {
     "data": {
      "text/plain": [
       "[PosixPath('../../data1/VOD-unzip/10_Datefight/outsidedoor_05/197-6/197-6_cam01_datefight02_place03_night_spring.mp4'),\n",
       " PosixPath('../../data1/VOD-unzip/10_Datefight/outsidedoor_03/192-5/192-5_cam01_datefight01_place01_night_spring.mp4'),\n",
       " PosixPath('../../data1/VOD-unzip/10_Datefight/outsidedoor_02/188-5/188-5_cam02_datefight01_place01_day_spring.mp4'),\n",
       " PosixPath('../../data1/VOD-unzip/10_Datefight/outsidedoor_02/188-5/188-5_cam01_datefight01_place01_day_spring.mp4'),\n",
       " PosixPath('../../data1/VOD-unzip/10_Datefight/outsidedoor_02/188-4/188-4_cam02_datefight01_place01_day_spring.mp4'),\n",
       " PosixPath('../../data1/VOD-unzip/10_Datefight/outsidedoor_02/188-4/188-4_cam01_datefight01_place01_day_spring.mp4'),\n",
       " PosixPath('../../data1/VOD-unzip/10_Datefight/outsidedoor_02/188-3/188-3_cam02_datefight01_place01_day_spring.mp4'),\n",
       " PosixPath('../../data1/VOD-unzip/10_Datefight/outsidedoor_02/188-3/188-3_cam01_datefight01_place01_day_spring.mp4'),\n",
       " PosixPath('../../data1/VOD-unzip/10_Datefight/outsidedoor_02/188-2/188-2_cam02_datefight01_place01_day_summer.mp4'),\n",
       " PosixPath('../../data1/VOD-unzip/10_Datefight/outsidedoor_02/188-2/188-2_cam01_datefight01_place01_day_summer.mp4'),\n",
       " PosixPath('../../data1/VOD-unzip/10_Datefight/outsidedoor_02/187-5/187-5_cam02_datefight01_place02_night_summer.mp4'),\n",
       " PosixPath('../../data1/VOD-unzip/10_Datefight/outsidedoor_02/187-5/187-5_cam01_datefight01_place02_night_summer.mp4'),\n",
       " PosixPath('../../data1/VOD-unzip/10_Datefight/outsidedoor_02/187-4/187-4_cam02_datefight01_place02_night_spring.mp4'),\n",
       " PosixPath('../../data1/VOD-unzip/10_Datefight/outsidedoor_02/187-4/187-4_cam01_datefight01_place02_night_spring.mp4'),\n",
       " PosixPath('../../data1/VOD-unzip/10_Datefight/outsidedoor_02/187-3/187-3_cam02_datefight01_place02_night_summer.mp4'),\n",
       " PosixPath('../../data1/VOD-unzip/10_Datefight/outsidedoor_02/187-3/187-3_cam02_datefight01_place02_night_spring.mp4'),\n",
       " PosixPath('../../data1/VOD-unzip/10_Datefight/outsidedoor_02/187-3/187-3_cam01_datefight01_place02_night_summer.mp4'),\n",
       " PosixPath('../../data1/VOD-unzip/10_Datefight/outsidedoor_02/187-3/187-3_cam01_datefight01_place02_night_spring.mp4'),\n",
       " PosixPath('../../data1/VOD-unzip/10_Datefight/outsidedoor_02/187-1/187-1_cam02_datefight01_place02_night_summer.mp4'),\n",
       " PosixPath('../../data1/VOD-unzip/10_Datefight/outsidedoor_02/187-1/187-1_cam01_datefight01_place02_night_summer.mp4'),\n",
       " PosixPath('../../data1/VOD-unzip/10_Datefight/outsidedoor_01/186-4/186-4_cam02_datefight01_place03_day_spring.mp4'),\n",
       " PosixPath('../../data1/VOD-unzip/10_Datefight/outsidedoor_01/186-4/186-4_cam01_datefight01_place03_day_summer.mp4'),\n",
       " PosixPath('../../data1/VOD-unzip/10_Datefight/outsidedoor_01/186-4/186-4_cam01_datefight01_place03_day_spring.mp4'),\n",
       " PosixPath('../../data1/VOD-unzip/10_Datefight/outsidedoor_01/186-3/186-3_cam02_datefight01_place03_day_summer.mp4'),\n",
       " PosixPath('../../data1/VOD-unzip/10_Datefight/outsidedoor_01/186-3/186-3_cam02_datefight01_place03_day_spring.mp4'),\n",
       " PosixPath('../../data1/VOD-unzip/10_Datefight/outsidedoor_01/186-3/186-3_cam01_datefight01_place03_day_summer.mp4'),\n",
       " PosixPath('../../data1/VOD-unzip/10_Datefight/outsidedoor_01/186-3/186-3_cam01_datefight01_place03_day_spring.mp4'),\n",
       " PosixPath('../../data1/VOD-unzip/10_Datefight/outsidedoor_01/186-2/186-2_cam02_datefight01_place03_day_summer.mp4'),\n",
       " PosixPath('../../data1/VOD-unzip/10_Datefight/outsidedoor_01/186-2/186-2_cam01_datefight01_place03_day_summer.mp4'),\n",
       " PosixPath('../../data1/VOD-unzip/10_Datefight/outsidedoor_01/186-1/186-1_cam02_datefight01_place03_day_summer.mp4'),\n",
       " PosixPath('../../data1/VOD-unzip/10_Datefight/outsidedoor_01/186-1/186-1_cam01_datefight01_place03_day_summer.mp4'),\n",
       " PosixPath('../../data1/VOD-unzip/10_Datefight/outsidedoor_01/185-6/185-6_cam02_datefight01_place02_night_summer.mp4'),\n",
       " PosixPath('../../data1/VOD-unzip/10_Datefight/outsidedoor_01/185-6/185-6_cam01_datefight01_place02_night_summer.mp4'),\n",
       " PosixPath('../../data1/VOD-unzip/10_Datefight/outsidedoor_01/185-6/185-6_cam01_datefight01_place02_night_spring.mp4')]"
      ]
     },
     "execution_count": 5,
     "metadata": {},
     "output_type": "execute_result"
    }
   ],
   "source": [
    "errored"
   ]
  },
  {
   "cell_type": "code",
   "execution_count": null,
   "metadata": {},
   "outputs": [],
   "source": []
  },
  {
   "cell_type": "code",
   "execution_count": null,
   "metadata": {},
   "outputs": [],
   "source": []
  }
 ],
 "metadata": {
  "kernelspec": {
   "display_name": "Python [conda env:gc2020]",
   "language": "python",
   "name": "conda-env-gc2020-py"
  },
  "language_info": {
   "codemirror_mode": {
    "name": "ipython",
    "version": 3
   },
   "file_extension": ".py",
   "mimetype": "text/x-python",
   "name": "python",
   "nbconvert_exporter": "python",
   "pygments_lexer": "ipython3",
   "version": "3.7.7"
  }
 },
 "nbformat": 4,
 "nbformat_minor": 4
}
