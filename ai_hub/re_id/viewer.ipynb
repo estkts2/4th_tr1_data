{
 "cells": [
  {
   "cell_type": "code",
   "execution_count": 80,
   "metadata": {},
   "outputs": [
    {
     "data": {
      "text/plain": [
       "(439428, 439882, 'unzip/OUT/H00646/SN4/100810/OUT_H00646_SN4_100810_20397.png')"
      ]
     },
     "execution_count": 80,
     "metadata": {},
     "output_type": "execute_result"
    }
   ],
   "source": [
    "from glob import glob\n",
    "import ipyplot\n",
    "import random\n",
    "imgs = sorted(glob('unzip/*/*/*/*/*.png'))\n",
    "xmls = sorted(glob('unzip/*/*/*/*/*.xml'))\n",
    "len(imgs), len(xmls), imgs[-1]"
   ]
  },
  {
   "cell_type": "code",
   "execution_count": null,
   "metadata": {},
   "outputs": [],
   "source": [
    "HS = glob('unzip/OUT/*')\n",
    "print(len(HS))\n",
    "for i,  H in enumerate(HS):\n",
    "    print(f\"{i}/{len(HS)}\")\n",
    "    print(H.split('/')[-1][3:])\n",
    "    SNS = sorted(glob(f'{H}/*'))\n",
    "    SNS = SNS[::2] + SNS[1::2]\n",
    "    print([e.split('/')[-1] for e in SNS])\n",
    "    sample = []\n",
    "    for SN in SNS:\n",
    "        print('\\n\\n==========================================================\\n\\n')\n",
    "        print(SN, len(imgs))\n",
    "        imgs = sorted(glob(f'{SN}/*/*.png'))\n",
    "        random.shuffle(imgs)\n",
    "        ipyplot.plot_images(imgs[:24], img_width=64,)\n",
    "    c = input()\n",
    "    if 'q' == c:\n",
    "        break\n",
    "    ipd.clear_output()\n",
    "    "
   ]
  }
 ],
 "metadata": {
  "kernelspec": {
   "display_name": "Python [conda env:vfnet]",
   "language": "python",
   "name": "conda-env-vfnet-py"
  },
  "language_info": {
   "codemirror_mode": {
    "name": "ipython",
    "version": 3
   },
   "file_extension": ".py",
   "mimetype": "text/x-python",
   "name": "python",
   "nbconvert_exporter": "python",
   "pygments_lexer": "ipython3",
   "version": "3.7.0"
  }
 },
 "nbformat": 4,
 "nbformat_minor": 4
}
