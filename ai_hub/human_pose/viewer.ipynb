{
 "cells": [
  {
   "cell_type": "code",
   "execution_count": null,
   "metadata": {},
   "outputs": [],
   "source": [
    "from glob import glob\n",
    "import ipyplot\n",
    "import IPython.display as ipd\n",
    "import shutil\n",
    "import json\n",
    "\n",
    "grs = sorted(glob('Image/*'))\n",
    "len(grs)"
   ]
  },
  {
   "cell_type": "code",
   "execution_count": null,
   "metadata": {},
   "outputs": [],
   "source": [
    "for i in range(250, len(grs)):\n",
    "    filtered = set([Path(e).name for e in glob('filtered/*.jpg')])\n",
    "    gr = grs[i]\n",
    "    imgs = glob(f'{gr}/*.jpg')\n",
    "    if len(imgs) == 0:\n",
    "        continue\n",
    "    ims = sorted([(int(im.split('.')[-2].split('_')[-1]), im) for im in imgs])\n",
    "    if ims[-1] in filtered:\n",
    "        print('exists')\n",
    "        continue\n",
    "    ims = list(zip(*ims))[1]\n",
    "    ipyplot.plot_images(imgs[::10])\n",
    "    print(f'{i}/{len(grs)}')\n",
    "    print(ims[-1])\n",
    "    c = input()\n",
    "    if 'q' ==  c:\n",
    "        break\n",
    "    elif 'y' == c:\n",
    "        shutil.copy(ims[-1], 'filtered')\n",
    "    ipd.clear_output()\n"
   ]
  },
  {
   "cell_type": "code",
   "execution_count": 35,
   "metadata": {},
   "outputs": [
    {
     "data": {
      "text/plain": [
       "221498"
      ]
     },
     "execution_count": 35,
     "metadata": {},
     "output_type": "execute_result"
    }
   ],
   "source": [
    "jsons = glob('2D_json/*.json')\n",
    "len(jsons)"
   ]
  },
  {
   "cell_type": "code",
   "execution_count": 39,
   "metadata": {},
   "outputs": [],
   "source": [
    "with open(jsons[12345]) as f:\n",
    "    anno = json.load(f)"
   ]
  },
  {
   "cell_type": "code",
   "execution_count": null,
   "metadata": {},
   "outputs": [],
   "source": [
    "imgs = glob('filtered/*')\n",
    "ipyplot.plot_images(imgs)"
   ]
  },
  {
   "cell_type": "code",
   "execution_count": null,
   "metadata": {},
   "outputs": [],
   "source": []
  }
 ],
 "metadata": {
  "kernelspec": {
   "display_name": "Python [conda env:vfnet]",
   "language": "python",
   "name": "conda-env-vfnet-py"
  },
  "language_info": {
   "codemirror_mode": {
    "name": "ipython",
    "version": 3
   },
   "file_extension": ".py",
   "mimetype": "text/x-python",
   "name": "python",
   "nbconvert_exporter": "python",
   "pygments_lexer": "ipython3",
   "version": "3.7.0"
  }
 },
 "nbformat": 4,
 "nbformat_minor": 4
}
