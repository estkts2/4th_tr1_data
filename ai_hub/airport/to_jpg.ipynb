{
 "cells": [
  {
   "cell_type": "code",
   "execution_count": 8,
   "metadata": {},
   "outputs": [],
   "source": [
    "import imageio\n",
    "from pathlib import Path\n",
    "from PIL import Image\n",
    "from glob import glob\n",
    "import IPython.display as ipd"
   ]
  },
  {
   "cell_type": "code",
   "execution_count": 15,
   "metadata": {},
   "outputs": [],
   "source": [
    "mp4s = sorted(glob('실신_산출물_348/*.mp4'))\n",
    "for j in range(132, len(mp4s)):\n",
    "    mp4 = mp4s[j]\n",
    "    \n",
    "    jpgs = imageio.mimread(mp4, memtest=False)\n",
    "    jpgs = list(reversed(jpgs))\n",
    "    for i in  range(4, len(jpgs), 15):\n",
    "        print(f'{j}/{len(mp4s)}: ', mp4, f'{i:05d}')\n",
    "        img = Image.fromarray(jpgs[i])\n",
    "        display(img.resize((960, 540)))\n",
    "        if i == 4:\n",
    "            c = 'y'\n",
    "        else:\n",
    "            c = 'n'\n",
    "        #c = input()\n",
    "        if 'q' == c or 'n' == c:\n",
    "            break\n",
    "        if 'y' == c:\n",
    "            img.save(f'./jpgs/{Path(mp4).stem}_{len(jpgs)-i:05d}.jpg')\n",
    "        if 'b' == c:\n",
    "            img.save(f'./jpgs/{Path(mp4).stem}_{len(jpgs)-i+15:05d}.jpg')\n",
    "            \n",
    "        ipd.clear_output()\n",
    "    if c != 'n':\n",
    "        break\n",
    "    ipd.clear_output()\n",
    "        "
   ]
  },
  {
   "cell_type": "code",
   "execution_count": null,
   "metadata": {},
   "outputs": [],
   "source": []
  }
 ],
 "metadata": {
  "kernelspec": {
   "display_name": "Python [conda env:vfnet]",
   "language": "python",
   "name": "conda-env-vfnet-py"
  },
  "language_info": {
   "codemirror_mode": {
    "name": "ipython",
    "version": 3
   },
   "file_extension": ".py",
   "mimetype": "text/x-python",
   "name": "python",
   "nbconvert_exporter": "python",
   "pygments_lexer": "ipython3",
   "version": "3.7.0"
  }
 },
 "nbformat": 4,
 "nbformat_minor": 4
}
