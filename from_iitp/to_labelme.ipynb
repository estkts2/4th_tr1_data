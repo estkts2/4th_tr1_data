{
 "cells": [
  {
   "cell_type": "code",
   "execution_count": 37,
   "metadata": {},
   "outputs": [],
   "source": [
    "from glob import glob\n",
    "import json\n",
    "import os\n",
    "from tqdm.auto import tqdm\n",
    "from pathlib import Path\n",
    "annos = glob('eval_videos/*/*.json')\n",
    "len(annos)\n",
    "anno = annos[1234]"
   ]
  },
  {
   "cell_type": "code",
   "execution_count": 38,
   "metadata": {},
   "outputs": [
    {
     "data": {
      "application/vnd.jupyter.widget-view+json": {
       "model_id": "7498037cd2ab482baacac3b1a3ed2b59",
       "version_major": 2,
       "version_minor": 0
      },
      "text/plain": [
       "HBox(children=(IntProgress(value=0, max=5015), HTML(value='')))"
      ]
     },
     "metadata": {},
     "output_type": "display_data"
    },
    {
     "name": "stdout",
     "output_type": "stream",
     "text": [
      "\n"
     ]
    },
    {
     "data": {
      "text/plain": [
       "{'version': '4.5.6',\n",
       " 'flags': {},\n",
       " 'shapes': [{'label': 'swoon',\n",
       "   'points': [[688, 660], [858, 660], [858, 874], [688, 874]],\n",
       "   'group_id': None,\n",
       "   'shape_type': 'polygon',\n",
       "   'flags': {}}],\n",
       " 'imagePath': 'GH010219 599.jpg',\n",
       " 'imageData': None,\n",
       " 'imageHeight': 1080,\n",
       " 'imageWidth': 1920}"
      ]
     },
     "execution_count": 38,
     "metadata": {},
     "output_type": "execute_result"
    }
   ],
   "source": [
    "for anno in tqdm(annos):\n",
    "    with open(anno) as f:\n",
    "        a = json.load(f)\n",
    "    a['imagePath'] = f'{Path(anno).stem}.jpg'\n",
    "    with open(anno, 'w') as f:\n",
    "        json.dump(a, f)\n",
    "    \n",
    "    if 'file_name' in a:\n",
    "        if 'box' in a:\n",
    "            x1, y1, x2, y2 = a['box']\n",
    "            a = {'version': '4.5.6',\n",
    "             'flags': {},\n",
    "             'shapes': [\n",
    "                 { 'label': 'swoon',\n",
    "                   'points': [[x1,y1], [x2,y1], [x2,y2], [x1, y2]],\n",
    "                   'group_id': None,\n",
    "                   'shape_type': 'polygon',\n",
    "                   'flags': {}}],\n",
    "             'imagePath': f'{Path(anno).stem}.jpg',\n",
    "             'imageData': None,\n",
    "             'imageHeight': 1080,\n",
    "             'imageWidth': 1920}\n",
    "            os.rename(anno, anno+'.box.iitp')\n",
    "            with open(anno, 'w') as f:\n",
    "                json.dump(a, f)\n",
    "        else:\n",
    "            os.rename(anno, anno+'.iitp')\n",
    "a"
   ]
  },
  {
   "cell_type": "code",
   "execution_count": 35,
   "metadata": {},
   "outputs": [
    {
     "data": {
      "text/plain": [
       "{'version': '4.5.6',\n",
       " 'flags': {},\n",
       " 'shapes': [{'label': 'dummy',\n",
       "   'points': [[262.77272727272725, 415.8636363636364],\n",
       "    [287.77272727272725, 410.1818181818182],\n",
       "    [317.3181818181818, 451.09090909090907],\n",
       "    [331.52272727272725, 498.25],\n",
       "    [323.5681818181818, 514.7272727272727],\n",
       "    [249.13636363636363, 514.1590909090909],\n",
       "    [243.45454545454547, 490.2954545454545]],\n",
       "   'group_id': None,\n",
       "   'shape_type': 'polygon',\n",
       "   'flags': {}}],\n",
       " 'imagePath': 'mobile_20201125_221341_019.jpg',\n",
       " 'imageData': None,\n",
       " 'imageHeight': 1080,\n",
       " 'imageWidth': 1920}"
      ]
     },
     "execution_count": 35,
     "metadata": {},
     "output_type": "execute_result"
    }
   ],
   "source": [
    "l = 'my_mobile/merged_520/merged_image/enlarge_20201125_221341/mobile_20201125_221341_019.json'\n",
    "with open(l) as f:\n",
    "    l = json.load(f)\n",
    "l"
   ]
  },
  {
   "cell_type": "code",
   "execution_count": 34,
   "metadata": {},
   "outputs": [],
   "source": [
    "a = 3"
   ]
  }
 ],
 "metadata": {
  "kernelspec": {
   "display_name": "Python 3",
   "language": "python",
   "name": "python3"
  },
  "language_info": {
   "codemirror_mode": {
    "name": "ipython",
    "version": 3
   },
   "file_extension": ".py",
   "mimetype": "text/x-python",
   "name": "python",
   "nbconvert_exporter": "python",
   "pygments_lexer": "ipython3",
   "version": "3.7.4"
  }
 },
 "nbformat": 4,
 "nbformat_minor": 4
}
