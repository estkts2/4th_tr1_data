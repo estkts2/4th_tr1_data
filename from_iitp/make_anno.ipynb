{
 "cells": [
  {
   "cell_type": "code",
   "execution_count": 30,
   "metadata": {},
   "outputs": [
    {
     "data": {
      "text/plain": [
       "(2464, 'videos/12/GH010186 582.jpg')"
      ]
     },
     "execution_count": 30,
     "metadata": {},
     "output_type": "execute_result"
    }
   ],
   "source": [
    "from glob import glob\n",
    "import json\n",
    "from pathlib import Path\n",
    "from tqdm.auto import tqdm\n",
    "import imagesize\n",
    "\n",
    "FPS = 3\n",
    "jpgs = glob('videos/*/*.jpg')[::int(30/FPS)]\n",
    "len(jpgs), jpgs[-1]"
   ]
  },
  {
   "cell_type": "code",
   "execution_count": 27,
   "metadata": {},
   "outputs": [],
   "source": [
    "def get_empty_data():\n",
    "    import datetime\n",
    "    now = datetime.datetime.now()\n",
    "    data = dict(\n",
    "        info=dict(\n",
    "            description=None,\n",
    "            url=None,\n",
    "            version=None,\n",
    "            year=now.year,\n",
    "            contributor=None,\n",
    "            date_created=now.strftime(\"%Y-%m-%d %H:%M:%S.%f\"),\n",
    "        ),\n",
    "        licenses=[dict(url=None, id=0, name=None,)],\n",
    "        images=[\n",
    "            # license, url, file_name, height, width, date_captured, id\n",
    "        ],\n",
    "        annotations=[\n",
    "            # segmentation, area, iscrowd, image_id, bbox, category_id, id\n",
    "        ],\n",
    "        categories=[ dict(id=0, name='swoon'), dict(id=1, name='dummy') ],\n",
    "    )\n",
    "    return data"
   ]
  },
  {
   "cell_type": "code",
   "execution_count": 29,
   "metadata": {},
   "outputs": [
    {
     "data": {
      "application/vnd.jupyter.widget-view+json": {
       "model_id": "3bb9be5f190f4a299325b3680dacd2e5",
       "version_major": 2,
       "version_minor": 0
      },
      "text/plain": [
       "HBox(children=(HTML(value=''), FloatProgress(value=0.0, max=2464.0), HTML(value='')))"
      ]
     },
     "metadata": {},
     "output_type": "display_data"
    },
    {
     "name": "stdout",
     "output_type": "stream",
     "text": [
      "\n"
     ]
    }
   ],
   "source": [
    "data = get_empty_data()\n",
    "for image_id, jpg_path in enumerate(tqdm(jpgs)):\n",
    "    w, h = imagesize.get(jpg_path)\n",
    "    l = dict(id=image_id, file_name='/'.join(jpg_path.split('/')[-2:]), width=w, height=h, iscrow=0)\n",
    "    data['images'].append(l)  \n",
    "    \n",
    "    data['annotations'].append(\n",
    "            dict(\n",
    "                id = len(data['annotations']),\n",
    "                bbox = [100, 100, 200, 200], # l, t, width, height\n",
    "                category_id = 0,\n",
    "                iscrowd=0,\n",
    "                image_id=image_id,\n",
    "                area=100*100,\n",
    "            )\n",
    "        )\n",
    "    \n",
    "with open(f'dummy_anno_{FPS}fps.json', \"w\") as f:\n",
    "    json.dump(data, f)"
   ]
  },
  {
   "cell_type": "code",
   "execution_count": null,
   "metadata": {},
   "outputs": [],
   "source": []
  }
 ],
 "metadata": {
  "kernelspec": {
   "display_name": "Python [conda env:vfnet]",
   "language": "python",
   "name": "conda-env-vfnet-py"
  },
  "language_info": {
   "codemirror_mode": {
    "name": "ipython",
    "version": 3
   },
   "file_extension": ".py",
   "mimetype": "text/x-python",
   "name": "python",
   "nbconvert_exporter": "python",
   "pygments_lexer": "ipython3",
   "version": "3.7.0"
  }
 },
 "nbformat": 4,
 "nbformat_minor": 4
}
