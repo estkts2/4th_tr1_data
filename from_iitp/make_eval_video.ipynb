{
 "cells": [
  {
   "cell_type": "code",
   "execution_count": 17,
   "metadata": {},
   "outputs": [
    {
     "data": {
      "application/vnd.jupyter.widget-view+json": {
       "model_id": "877180ecb23f41f4a94271420bfdf65a",
       "version_major": 2,
       "version_minor": 0
      },
      "text/plain": [
       "HBox(children=(HTML(value=''), FloatProgress(value=0.0, max=40.0), HTML(value='')))"
      ]
     },
     "metadata": {},
     "output_type": "display_data"
    },
    {
     "name": "stdout",
     "output_type": "stream",
     "text": [
      "\n"
     ]
    }
   ],
   "source": [
    "from glob import glob\n",
    "from pathlib import Path\n",
    "import shutil \n",
    "from tqdm.auto import tqdm\n",
    "\n",
    "videos = glob('videos/*')\n",
    "video = videos[23]\n",
    "\n",
    "def img_copy(path, dst_dir):\n",
    "    Path(path)\n",
    "    shutil.copy(path, dst_dir)\n",
    "    \n",
    "for video in tqdm(videos):\n",
    "    dst_dir = f'eval_videos/{Path(video).name}'\n",
    "    shutil.rmtree(dst_dir, ignore_errors=True)\n",
    "    Path(dst_dir).mkdir(exist_ok = True)\n",
    "    imgs = sorted(glob(f'{video}/*.jpg'))[::2][:300]\n",
    "    for img in imgs:\n",
    "        label = img.replace('videos', 'labels').replace('.jpg', '.json')\n",
    "        img_copy(img, dst_dir)\n",
    "        img_copy(label, dst_dir)"
   ]
  },
  {
   "cell_type": "code",
   "execution_count": null,
   "metadata": {},
   "outputs": [],
   "source": []
  }
 ],
 "metadata": {
  "kernelspec": {
   "display_name": "Python [conda env:vfnet]",
   "language": "python",
   "name": "conda-env-vfnet-py"
  },
  "language_info": {
   "codemirror_mode": {
    "name": "ipython",
    "version": 3
   },
   "file_extension": ".py",
   "mimetype": "text/x-python",
   "name": "python",
   "nbconvert_exporter": "python",
   "pygments_lexer": "ipython3",
   "version": "3.7.0"
  }
 },
 "nbformat": 4,
 "nbformat_minor": 4
}
