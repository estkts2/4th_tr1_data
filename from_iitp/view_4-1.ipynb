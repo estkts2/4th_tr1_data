{
 "cells": [
  {
   "cell_type": "code",
   "execution_count": 1,
   "metadata": {},
   "outputs": [],
   "source": [
    "from glob import glob\n",
    "import imageio\n",
    "from pathlib import Path\n",
    "import json\n",
    "import cv2\n",
    "from PIL import Image\n",
    "from tqdm.auto import tqdm\n",
    "import random\n",
    "import moviepy.editor as mpe\n",
    "import IPython.display as ipd\n",
    "\n",
    "def read_json(img_path):\n",
    "    json_path = Path(img_path.replace('video', 'anno')).with_suffix('.json')\n",
    "    with open(json_path) as f:\n",
    "        anno = json.load(f)\n",
    "    return anno\n",
    "\n",
    "def read_with_box(img_path):\n",
    "    anno = read_json(img_path)\n",
    "    im = imageio.imread(img_path)\n",
    "    if 'box' not in anno:\n",
    "        return im\n",
    "    x1, y1, x2, y2 = anno['box']\n",
    "    im = cv2.rectangle(im, (x1, y1), (x2, y2), (0, 255, 0), 2)\n",
    "    return im\n",
    "        \n",
    "def make_movie(video):\n",
    "    img_paths = sorted(glob(f'{video}/*.jpg'))\n",
    "    ims = [read_with_box(e) for e in tqdm(img_paths)]\n",
    "    vc = mpe.ImageSequenceClip(ims, fps=15)\n",
    "    vname = f'boxed/{Path(video).name}.mp4'\n",
    "    vc.write_videofile(vname)\n",
    "    return vname"
   ]
  },
  {
   "cell_type": "code",
   "execution_count": null,
   "metadata": {},
   "outputs": [],
   "source": [
    "videos = sorted(glob('../../../data1/gc2020/4th_tr1_sample/video/*'))\n",
    "for video in tqdm(videos):\n",
    "    vname = make_movie(video)\n",
    "    display(ipd.Video(vname, width=960))\n",
    "    "
   ]
  }
 ],
 "metadata": {
  "kernelspec": {
   "display_name": "Python [conda env:gc2020]",
   "language": "python",
   "name": "conda-env-gc2020-py"
  },
  "language_info": {
   "codemirror_mode": {
    "name": "ipython",
    "version": 3
   },
   "file_extension": ".py",
   "mimetype": "text/x-python",
   "name": "python",
   "nbconvert_exporter": "python",
   "pygments_lexer": "ipython3",
   "version": "3.7.7"
  }
 },
 "nbformat": 4,
 "nbformat_minor": 4
}
